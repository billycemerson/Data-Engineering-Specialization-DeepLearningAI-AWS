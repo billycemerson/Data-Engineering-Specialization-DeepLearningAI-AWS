{
  "cells": [
    {
      "cell_type": "markdown",
      "metadata": {},
      "source": [
        "# Testing Data Quality with Great Expectations\n",
        "\n",
        "In this lab, you will work on defining some expectations and validations over a dataset in a MySQL Database. You will implement your validation workflow using the different components of Great Expectations: Data Context, Data Sources, Expectations and suites, and Checkpoints."
      ]
    },
    {
      "cell_type": "markdown",
      "metadata": {},
      "source": [
        "# Table of Contents\n",
        "\n",
        "- [ 1 - Introduction and Setup](#1)\n",
        "- [ 2 - Data Context](#2)\n",
        "- [ 3 - Data Source](#3)\n",
        "- [ 4 - Batch Request](#4)\n",
        "  - [ Exercise 1](#ex01)\n",
        "- [ 5 - Expectation Suite and Validator](#5)\n",
        "  - [ Exercise 2](#ex02)\n",
        "  - [ Exercise 3](#ex03)\n",
        "  - [ Exercise 4](#ex04)\n",
        "- [ 6 - Creating the Batch Requests and the Validations List](#6)\n",
        "  - [ Exercise 5](#ex05)\n",
        "- [ 7 - Checkpoints and Computing Validations over the Dataset](#7)\n",
        "  - [ Exercise 6](#ex06)"
      ]
    },
    {
      "cell_type": "markdown",
      "metadata": {},
      "source": [
        "<a id='1'></a>\n",
        "## 1 - Introduction and Setup\n",
        "\n",
        "**Great Expectations (GX)** enables you to define expectations for your data and to automatically validate your data against these expectations. It can also notify you of any inconsistencies detected, and you can use it to validate your data at any stage of your data pipeline. You can find GX documentation [here](https://docs.greatexpectations.io/docs/home)."
      ]
    },
    {
      "attachments": {},
      "cell_type": "markdown",
      "metadata": {},
      "source": [
        "1.1. Let's start by configuring GX. In the terminal, run the following command to set up the environment:"
      ]
    },
    {
      "attachments": {},
      "cell_type": "markdown",
      "metadata": {},
      "source": [
        "```bash\n",
        "source scripts/setup.sh\n",
        "```"
      ]
    },
    {
      "attachments": {},
      "cell_type": "markdown",
      "metadata": {},
      "source": [
        "Take the output that has the form:\n",
        " \n",
        "```bash\n",
        "MYSQL_CONNECTION_STRING: mysql+pymysql://<DBUSER>:<DBPASSWORD>@<DBHOST>:<DBPORT>/<DBNAME>\n",
        "```\n",
        "\n",
        "and save it as you will use it later. Then, initialize your GX project with this command:\n",
        "\n",
        "```bash\n",
        "great_expectations init\n",
        "```"
      ]
    },
    {
      "cell_type": "markdown",
      "metadata": {},
      "source": [
        "You will be shown an output indicating the folder structure that the library is going to create in your local filesystem, which looks as follows:"
      ]
    },
    {
      "cell_type": "markdown",
      "metadata": {},
      "source": [
        "```bash\n",
        "great_expectations\n",
        "|-- great_expectations.yml\n",
        "    |-- expectations\n",
        "    |-- checkpoints\n",
        "    |-- plugins\n",
        "    |-- .gitignore\n",
        "    |-- uncommitted\n",
        "        |-- config_variables.yml\n",
        "        |-- data_docs\n",
        "        |-- validations\n",
        "```"
      ]
    },
    {
      "cell_type": "markdown",
      "metadata": {},
      "source": [
        "Type `Y` to proceed. Even though the output shows `great_expectations` as the root folder, you will find that the actual root folder is named `gx`."
      ]
    },
    {
      "cell_type": "markdown",
      "metadata": {},
      "source": [
        "**Configuring the Backend stores**\n",
        "\n",
        "The previous command initialized the data context object and created your backend stores, such as the checkpoints, expectations, data_docs and validations stores, as local directories. Let's configure these stores as `S3` buckets. For that, you are provided with two `S3` buckets:\n",
        "- `GXArtifactsS3Bucket`: you will use this bucket to store information about your expectations, validations and checkpoints;\n",
        "- `GXDocsS3Bucket`: you will use this bucket to store your DataDocs, which are human readable documentations that contain reports on Expectations, Checkpoints and Validation results.\n",
        "\n",
        "There are several advantages for storing your project metadata in an `S3` bucket. These advantages include:\n",
        "- Accessibility: S3 buckets are highly accessible from various environments and by other team members or stakeholders.\n",
        "- Scalability: You can continue storing your project metadata seamlessly as your metadata grows over time.\n",
        "- Durability: Your metadata are reliably stored and protected."
      ]
    },
    {
      "cell_type": "markdown",
      "metadata": {},
      "source": [
        "1.2. Run the following code to get the link to the AWS console.\n",
        "\n",
        "*Note*: For security reasons, the URL to access the AWS console will expire every 15 minutes, but any AWS resources you created will remain available for the 2 hour period. If you need to access the console after 15 minutes, please rerun this code cell to obtain a new active link."
      ]
    },
    {
      "cell_type": "code",
      "execution_count": 1,
      "metadata": {},
      "outputs": [
        {
          "data": {
            "text/html": [
              "<a href=\"https://signin.aws.amazon.com/federation?Action=login&SigninToken=TuNG2h4o67HnR9YqaeQdOKUWx2o-doOpuD0OwtFJtg3dLFvR925ZnhdvRDdK7iTQWjHc4-PDO5T-QUW3Fdo3TEvd_CuYFjwjXM_uXgeiR1oK0BbwgFrGyAkdMPrVA18H8RO9jryoETJcPKjpZw7NW0i25PPWtAG-j3fiDi-HyXdtE6F7Kx49mfKqb8fyLe-L64kpdsJJ7OJua_Bh475RoLqvjIjtvtOiQZac-B6W8C-U9u7ZtZY82QjkRxUn8q-_UgSWlimcp3fp0lPvz9FDndKCu6Zbh5eH3T_8K2UKvP52jvZjuD5APvT1-BNox5Paub25wUm__E23OdX6KCpLy82sEItD-otQz3AaBlcXzA4l5UPe2q75GA37XuuUwGVG0Ww2DAKK5sT1hqEs2N7r6gpBkHv95C0Mtvczi8XFM9dTry9uwR-XUCQJKYR25vg0X5Ih8wAA0-PM9sex8hGBmNsO-YqAo86rMY_qDeySoAVLVnzv2ZqjyJLHHQue2cUtSErTafVtCCDIiq8y2JHVQobMbXnBHRaJnCOBGFu8EXZo35QqEVZF1MNGspjQbJSkxz0F1kg4mM95UeXG3osCVRI7sKcPIl79ONAdpY42Gk_xGx-PdGhlt7ZO1oq76REjj0XzoGMDselVKNHiU1ucZJmg9NWhiiofnhiHtmUk3ryMtIXkJBNqPF74ruMLhRI-SPl3szbLdJVIdaBxUPQxqQLOSIZHX33x8kp6EMkIa1KDP0r44ia8sDAw_yLmcsO33RpOceT4OVouuJO6exO5FeOmhiL_QHM6Lg6WjKxavqJk6SoQTxY9K6W2A5Wn8n6_5cGMHxUFeVPlfTGcyhnx0uGCQEKG2SQzGJujblDgl1ej6QEUpVSdblTXC5BJrkqYX0V7iG4w0KtMiVNaw9RKkcA4Jv0IgpxSyiRGRRbllHu9CueHU-HmtB2ru9BHoy7fWVnoYTGU7Ny0NSMIliVOO1LpUK7BQNTALBV-cLrUkUG8sTco1g2jNXR0AlWBelIDf0g-DimBua71gc10PfEeE02fcQJ4hRX968Ot-Wb0U5ukavpycPCf0nWz9BPF84q3Y-R2leFb3rewkSNjP8dNRGfEbgB5vALU8CIAimebntRcMvdSv4Y12g64wF-zuwdXtLZYeeuGZFJIZLo3sdTUbp-Z-zpqO31sv-r8CAq9SJesNgG_nlDVxvfVgLMec2n2Qcdj-zvaep_KkkHezbtq4UFHh_n1je-VXuo0AuNLA6rACw5aQ7VELRFwaQF2YMGzPGE1VDApwKB2LLamsSWMT5sFeNK6wYEebwG1kNg7CHdTE-fR07Lt0KUAci2iANIBo7flzE5NcbWTOMIaT2etnYWEqDMOzwiwX1P-sVDIgmB3mlieRB7_jD3Ybn5pi3Ck3r7yAkqXyBOfjcGTMxjxI3ogdXf_JsJAuncHMA&Issuer=https%3A%2F%2Fapi.vocareum.com&Destination=https%3A%2F%2Fconsole.aws.amazon.com%2Fconsole%2Fhome%3Fregion%3Dus-east-1\" target=\"_blank\">GO TO AWS CONSOLE</a>"
            ],
            "text/plain": [
              "<IPython.core.display.HTML object>"
            ]
          },
          "execution_count": 1,
          "metadata": {},
          "output_type": "execute_result"
        }
      ],
      "source": [
        "from IPython.display import HTML\n",
        "\n",
        "with open('../.aws/aws_console_url', 'r') as file:\n",
        "    aws_url = file.read().strip()\n",
        "\n",
        "HTML(f'<a href=\"{aws_url}\" target=\"_blank\">GO TO AWS CONSOLE</a>')"
      ]
    },
    {
      "cell_type": "markdown",
      "metadata": {},
      "source": [
        "*Note:* If you see the window like in the following printscreen, click on **logout** link, close the window and click on console link again.\n",
        "\n",
        "![AWSLogout](images/AWSLogout.png)"
      ]
    },
    {
      "cell_type": "markdown",
      "metadata": {},
      "source": [
        "Go to the AWS console, and search for **CloudFormation**. Click on the alphanumeric stack name and then click on the **Outputs** tab. In the list of outputs, you will see the buckets with the CloudFormation *Key* `GXArtifactsS3Bucket` and `GXDocsS3Bucket`. You will need to copy the corresponding bucket names, that you can find under the column *Value*, in order to replace the placeholders below.\n",
        "\n",
        "Alternatively, you can also run the following command in the terminal to list all available S3 buckets and gather the information directly: `aws s3 ls` ."
      ]
    },
    {
      "cell_type": "markdown",
      "metadata": {},
      "source": [
        "1.3. Open the file `gx/great_expectations.yml`. This YAML file represents the central configuration file used by GX, and contains various settings that control the behavior of your GX project. Search for the `stores` key; you will find several subkeys associated with each type of store. Replace the sections of the YAML file that correspond to the expectation, validations and checkpoint stores with the following configurations. Make sure to replace the placeholder `<GX-ARTIFACTS-BUCKET>` with the corresponding bucket name in those sections. \n",
        "\n",
        "*Note*: the YAML file is indentation-sensitive, so make sure to keep the same indentation level when you replace the configuration information (otherwise you will get some errors when you run the command in 1.5)."
      ]
    },
    {
      "cell_type": "markdown",
      "metadata": {},
      "source": [
        "- Expectations store:\n",
        "```yaml\n",
        "  expectations_store:\n",
        "    class_name: ExpectationsStore\n",
        "    store_backend:\n",
        "      class_name: TupleS3StoreBackend\n",
        "      bucket: <GX-ARTIFACTS-BUCKET>\n",
        "      prefix: expectations/\n",
        "```\n",
        "\n",
        "- Validations store:\n",
        "```yaml\n",
        "  validations_store:\n",
        "    class_name: ValidationsStore\n",
        "    store_backend:\n",
        "      class_name: TupleS3StoreBackend\n",
        "      bucket: <GX-ARTIFACTS-BUCKET>\n",
        "      prefix: validations/\n",
        "```\n",
        "\n",
        "- Checkpoint store:\n",
        "```yaml\n",
        "  checkpoint_store:\n",
        "    class_name: CheckpointStore\n",
        "    store_backend:\n",
        "      class_name: TupleS3StoreBackend\n",
        "      suppress_store_backend_id: false\n",
        "      bucket: <GX-ARTIFACTS-BUCKET>\n",
        "      prefix: checkpoints/\n",
        "```"
      ]
    },
    {
      "cell_type": "markdown",
      "metadata": {},
      "source": [
        "1.4. Now, you will configure the storage for the documentation files Data Docs. In the same `YAML` file, search for the key `data_docs_sites` and replace the `local_site` subkey with the following configuration. Make sure to replace the placeholder `<GX-DOCS-BUCKET>` with the corresponding bucket name, using the name that is for the docs bucket not the artifacts bucket."
      ]
    },
    {
      "cell_type": "markdown",
      "metadata": {},
      "source": [
        "```yaml\n",
        "  S3_site:\n",
        "    class_name: SiteBuilder\n",
        "    store_backend:\n",
        "      class_name: TupleS3StoreBackend\n",
        "      bucket: <GX-DOCS-BUCKET>\n",
        "    site_index_builder:\n",
        "      class_name: DefaultSiteIndexBuilder\n",
        "```"
      ]
    },
    {
      "cell_type": "markdown",
      "metadata": {},
      "source": [
        "Save changes in the YAML file `Ctrl+S` or `Cmd+S`."
      ]
    },
    {
      "cell_type": "markdown",
      "metadata": {},
      "source": [
        "1.5. To check that your stores have been properly configured, execute the following command in the terminal:"
      ]
    },
    {
      "cell_type": "markdown",
      "metadata": {},
      "source": [
        "```bash \n",
        "great_expectations store list\n",
        "```"
      ]
    },
    {
      "cell_type": "markdown",
      "metadata": {},
      "source": [
        "This command lists the available Stores and shows information such as name, type, and location. Note that the Data Docs Sites is not listed by this command. "
      ]
    },
    {
      "cell_type": "markdown",
      "metadata": {},
      "source": [
        "1.6. Load the required packages and set the variable `LAB_PREFIX` that will be used in the lab:"
      ]
    },
    {
      "cell_type": "code",
      "execution_count": 1,
      "metadata": {},
      "outputs": [],
      "source": [
        "from dotenv import load_dotenv\n",
        "import boto3\n",
        "import time\n",
        "import os\n",
        "\n",
        "import great_expectations as gx\n",
        "from great_expectations.checkpoint import Checkpoint"
      ]
    },
    {
      "cell_type": "code",
      "execution_count": 2,
      "metadata": {},
      "outputs": [],
      "source": [
        "LAB_PREFIX='de-c2w3a1'"
      ]
    },
    {
      "cell_type": "markdown",
      "metadata": {},
      "source": [
        "Now you will you use the GX components to set up the validation workflow, starting with the Data Context."
      ]
    },
    {
      "cell_type": "markdown",
      "metadata": {},
      "source": [
        "<a id='2'></a>\n",
        "## 2 - Data Context\n",
        "\n",
        "The data context serves as the entry point for the Great Expectations API, which consists of classes and methods that allow you to create objects to connect to your data sources, create expectations and validate your data. So using the data context, you can connect to the Data source, define your expectations, create a validator, run your checkpoints, and access the metadata of your Great Expectations project.\n",
        "\n",
        "The Data Context can be ephemeral - existing only in memory and not persisting beyond the current Python session - or it can be backed by the configuration files so that it can persist between Python sessions and can be saved for later usage (File Data Context). In this lab, GX was set up so that your data context is a File Data Context backed by an AWS S3 Bucket."
      ]
    },
    {
      "cell_type": "markdown",
      "metadata": {},
      "source": [
        "2.1. Use the `get_context()` method of great expectations to load your Data Context."
      ]
    },
    {
      "cell_type": "code",
      "execution_count": 3,
      "metadata": {},
      "outputs": [],
      "source": [
        "context = gx.get_context()"
      ]
    },
    {
      "cell_type": "markdown",
      "metadata": {},
      "source": [
        "2.2. Inspect the content of the Data Context that you just created. You will see information about the stores you just configured."
      ]
    },
    {
      "cell_type": "code",
      "execution_count": 4,
      "metadata": {},
      "outputs": [
        {
          "name": "stderr",
          "output_type": "stream",
          "text": [
            "Something went wrong when trying to use SQLAlchemy to obfuscate URL: Could not parse SQLAlchemy URL from string '${MYSQL_CONNECTION_STRING}'\n"
          ]
        },
        {
          "data": {
            "text/plain": [
              "{\n",
              "  \"anonymous_usage_statistics\": {\n",
              "    \"usage_statistics_url\": \"https://stats.greatexpectations.io/great_expectations/v1/usage_statistics\",\n",
              "    \"enabled\": true,\n",
              "    \"explicit_url\": false,\n",
              "    \"explicit_id\": true,\n",
              "    \"data_context_id\": \"76042a75-f93a-49f6-a3a6-31f6cda6b8a3\"\n",
              "  },\n",
              "  \"checkpoint_store_name\": \"checkpoint_store\",\n",
              "  \"config_variables_file_path\": \"uncommitted/config_variables.yml\",\n",
              "  \"config_version\": 3.0,\n",
              "  \"data_docs_sites\": {\n",
              "    \"S3_site\": {\n",
              "      \"class_name\": \"SiteBuilder\",\n",
              "      \"store_backend\": {\n",
              "        \"class_name\": \"TupleS3StoreBackend\",\n",
              "        \"bucket\": \"de-c2w3a1-381492136858-us-east-1-gx-docs\"\n",
              "      },\n",
              "      \"site_index_builder\": {\n",
              "        \"class_name\": \"DefaultSiteIndexBuilder\"\n",
              "      }\n",
              "    }\n",
              "  },\n",
              "  \"datasources\": {},\n",
              "  \"evaluation_parameter_store_name\": \"evaluation_parameter_store\",\n",
              "  \"expectations_store_name\": \"expectations_store\",\n",
              "  \"fluent_datasources\": {\n",
              "    \"de-c2w3a1-db-datasource\": {\n",
              "      \"type\": \"sql\",\n",
              "      \"assets\": {\n",
              "        \"de-c2w3a1-trips\": {\n",
              "          \"type\": \"table\",\n",
              "          \"order_by\": [],\n",
              "          \"batch_metadata\": {},\n",
              "          \"splitter\": {\n",
              "            \"column_name\": \"vendor_id\",\n",
              "            \"method_name\": \"split_on_column_value\"\n",
              "          },\n",
              "          \"table_name\": \"trips\"\n",
              "        }\n",
              "      },\n",
              "      \"connection_string\": \"://None:***@None${MYSQL_CONNECTION_STRING}\"\n",
              "    }\n",
              "  },\n",
              "  \"include_rendered_content\": {\n",
              "    \"globally\": false,\n",
              "    \"expectation_validation_result\": false,\n",
              "    \"expectation_suite\": false\n",
              "  },\n",
              "  \"plugins_directory\": \"plugins/\",\n",
              "  \"stores\": {\n",
              "    \"expectations_store\": {\n",
              "      \"class_name\": \"ExpectationsStore\",\n",
              "      \"store_backend\": {\n",
              "        \"class_name\": \"TupleS3StoreBackend\",\n",
              "        \"bucket\": \"de-c2w3a1-381492136858-us-east-1-gx-artifacts\",\n",
              "        \"prefix\": \"expectations/\"\n",
              "      }\n",
              "    },\n",
              "    \"validations_store\": {\n",
              "      \"class_name\": \"ValidationsStore\",\n",
              "      \"store_backend\": {\n",
              "        \"class_name\": \"TupleS3StoreBackend\",\n",
              "        \"bucket\": \"de-c2w3a1-381492136858-us-east-1-gx-artifacts\",\n",
              "        \"prefix\": \"validations/\"\n",
              "      }\n",
              "    },\n",
              "    \"evaluation_parameter_store\": {\n",
              "      \"class_name\": \"EvaluationParameterStore\"\n",
              "    },\n",
              "    \"checkpoint_store\": {\n",
              "      \"class_name\": \"CheckpointStore\",\n",
              "      \"store_backend\": {\n",
              "        \"class_name\": \"TupleS3StoreBackend\",\n",
              "        \"suppress_store_backend_id\": false,\n",
              "        \"bucket\": \"de-c2w3a1-381492136858-us-east-1-gx-artifacts\",\n",
              "        \"prefix\": \"checkpoints/\"\n",
              "      }\n",
              "    },\n",
              "    \"profiler_store\": {\n",
              "      \"class_name\": \"ProfilerStore\",\n",
              "      \"store_backend\": {\n",
              "        \"class_name\": \"TupleFilesystemStoreBackend\",\n",
              "        \"suppress_store_backend_id\": true,\n",
              "        \"base_directory\": \"profilers/\"\n",
              "      }\n",
              "    }\n",
              "  },\n",
              "  \"validations_store_name\": \"validations_store\"\n",
              "}"
            ]
          },
          "execution_count": 4,
          "metadata": {},
          "output_type": "execute_result"
        }
      ],
      "source": [
        "context"
      ]
    },
    {
      "cell_type": "markdown",
      "metadata": {},
      "source": [
        "Additionally, in the content of the Artifacts S3 bucket, you will see a folder for each of the different stores that you have configured, one for the Expectations, another for Validations, and one for Checkpoints. "
      ]
    },
    {
      "cell_type": "markdown",
      "metadata": {},
      "source": [
        "<a id='3'></a>\n",
        "## 3 - Data Source\n",
        "\n",
        "The next step is to configure your Data Source. In  this lab, you are provided with a MySQL database labeled as `taxi_trips` which contains a sample of the [TLC trip record data set](https://www.nyc.gov/site/tlc/about/tlc-trip-record-data.page). The database contains one table named `trips`, which has the following schema:\n",
        "\n",
        "![ER Diagram trips](./images/ER_diagram_trips.png)"
      ]
    },
    {
      "attachments": {},
      "cell_type": "markdown",
      "metadata": {},
      "source": [
        "3.1. Now that you have a general understanding of the data schema you will use, let's connect to the database. \n",
        "\n",
        "Using the context object, you can connect to a SQL database using the method: `context.sources.add_sql()`. This method expects a name for your data source (which can be of your choice) and a connection string that consists of the database credentials that are needed to establish a connection to the database. GX supports passing Data Source [connection credentials](https://docs.greatexpectations.io/docs/0.18/oss/guides/setup/configuring_data_contexts/how_to_configure_credentials/) through environment variables or setting them through the GX configuration files. In this lab, you will set the `config_variables.yml` configuration file. \n",
        "\n",
        "Open the `gx/uncommitted/config_variables.yml` file and at the end of the file, append the output that you got from the execution of the script located at `scripts/setup.sh`. Append it in the following way:\n",
        "\n",
        "```yaml\n",
        "MYSQL_CONNECTION_STRING: mysql+pymysql://<DBUSER>:<DBPASSWORD>@<DBHOST>:<DBPORT>/<DBNAME>\n",
        "```\n",
        "\n",
        "Save changes. Then, run the following cell to create the data source object."
      ]
    },
    {
      "cell_type": "code",
      "execution_count": null,
      "metadata": {},
      "outputs": [],
      "source": [
        "# Create the data source to represent the data available in the MySQL DB\n",
        "mysql_datasource = context.sources.add_sql(\n",
        "    name=f\"{LAB_PREFIX}-db-datasource\", connection_string=\"${MYSQL_CONNECTION_STRING}\"\n",
        ")"
      ]
    },
    {
      "cell_type": "markdown",
      "metadata": {},
      "source": [
        "3.2. Let's now define a Data Asset from your data source. Remember that a Data Asset represents collections of records stored within a Data Source. It could be a table in a SQL database or a file in a file system. It could be also a query asset that joins data from more than one table or it could be a collection of files matching a particular regular expressions pattern. In other words, by defining your data asset, you tell GX on which part of your data you want to focus on.\n",
        "\n",
        "Since the given database consists of only the `trips` table, you will create a `Table Data Asset` from your data source using the method `add_table_asset`. This method expects a name for the data asset (in this case, we used the lab prefix followed by the table name) and the actual name of the table in the source database.\n",
        "\n",
        "Run the following cell to create your data asset."
      ]
    },
    {
      "cell_type": "code",
      "execution_count": null,
      "metadata": {},
      "outputs": [],
      "source": [
        "# Add a Data Asset to represent a discrete set of data\n",
        "trips = mysql_datasource.add_table_asset(\n",
        "    name=f\"{LAB_PREFIX}-trips\", table_name=\"trips\"\n",
        ")"
      ]
    },
    {
      "cell_type": "markdown",
      "metadata": {},
      "source": [
        "<a id='4'></a>\n",
        "## 4 - Batch Request\n",
        "\n",
        "The next thing you need to create is the Batch Request, which represents the primary way to retrieve data from your data asset. It can retrieve your data asset as a single batch or as multiple batches. In this lab, you will define your data asset as batches based on the `vendor_id` column."
      ]
    },
    {
      "cell_type": "markdown",
      "metadata": {},
      "source": [
        "<a id='ex01'></a>\n",
        "### Exercise 1 \n",
        "\n",
        "1. To create batches on your Table Data Asset `trips `, call the method `add_splitter_column_value()` on your data asset, and pass the `\"vendor_id\"` column as the splitter column. \n",
        "\n",
        "   *Note*: GX offers several ways to split your data, according to different conditions.\n",
        "\n",
        "2. Create the batch request, using the `build_batch_request()` method of your Table Data Asset.\n",
        "\n",
        "3. To inspect the batches, get the batches using the `get_batch_list_from_batch_request()` method of your Table Data Asset. This method expects as input the batch request. You can inspect the information about each batch, such as the Table Data Asset name, the type of splitter used, and the batch identifier according to the column selected as the splitter."
      ]
    },
    {
      "cell_type": "code",
      "execution_count": 11,
      "metadata": {
        "exercise": [
          "ex01"
        ],
        "tags": [
          "graded"
        ]
      },
      "outputs": [
        {
          "name": "stdout",
          "output_type": "stream",
          "text": [
            "{'type': 'table', 'data_asset_name': 'de-c2w3a1-trips', 'table_name': 'trips', 'schema_name': None, 'batch_identifiers': {'vendor_id': 1}, 'splitter_method': 'split_on_column_value', 'splitter_kwargs': {'column_name': 'vendor_id'}}\n",
            "{'type': 'table', 'data_asset_name': 'de-c2w3a1-trips', 'table_name': 'trips', 'schema_name': None, 'batch_identifiers': {'vendor_id': 2}, 'splitter_method': 'split_on_column_value', 'splitter_kwargs': {'column_name': 'vendor_id'}}\n",
            "{'type': 'table', 'data_asset_name': 'de-c2w3a1-trips', 'table_name': 'trips', 'schema_name': None, 'batch_identifiers': {'vendor_id': 4}, 'splitter_method': 'split_on_column_value', 'splitter_kwargs': {'column_name': 'vendor_id'}}\n"
          ]
        }
      ],
      "source": [
        "### START CODE HERE ### (~ 3 lines of code)\n",
        "\n",
        "# Use the \"vendor_id\" column as splitter column\n",
        "trips.add_splitter_column_value(\"vendor_id\")\n",
        "\n",
        "# Build the batch request\n",
        "batch_request = trips.build_batch_request()\n",
        "\n",
        "# Get the batches\n",
        "batches = trips.get_batch_list_from_batch_request(batch_request)\n",
        "\n",
        "### END CODE HERE ###\n",
        "\n",
        "for batch in batches:\n",
        "    print(batch.batch_spec)"
      ]
    },
    {
      "cell_type": "markdown",
      "metadata": {},
      "source": [
        "##### __Expected Output__ \n",
        "\n",
        "```json\n",
        "{'type': 'table', 'data_asset_name': 'de-c2w3a1-trips', 'table_name': 'trips', 'schema_name': None, 'batch_identifiers': {'vendor_id': 1}, 'splitter_method': 'split_on_column_value', 'splitter_kwargs': {'column_name': 'vendor_id'}}\n",
        "{'type': 'table', 'data_asset_name': 'de-c2w3a1-trips', 'table_name': 'trips', 'schema_name': None, 'batch_identifiers': {'vendor_id': 2}, 'splitter_method': 'split_on_column_value', 'splitter_kwargs': {'column_name': 'vendor_id'}}\n",
        "{'type': 'table', 'data_asset_name': 'de-c2w3a1-trips', 'table_name': 'trips', 'schema_name': None, 'batch_identifiers': {'vendor_id': 4}, 'splitter_method': 'split_on_column_value', 'splitter_kwargs': {'column_name': 'vendor_id'}}\n",
        "```"
      ]
    },
    {
      "cell_type": "markdown",
      "metadata": {},
      "source": [
        "You can see in the output a key named `'batch_identifiers'` with a dictionary as a value. The dictionary contains the splitter column name as a key and the value of the column that identifies the batch. Now, let's create a batch request list for each of the batches generated before."
      ]
    },
    {
      "cell_type": "code",
      "execution_count": 12,
      "metadata": {},
      "outputs": [],
      "source": [
        "batch_request_list = [batch.batch_request for batch in batches]"
      ]
    },
    {
      "cell_type": "markdown",
      "metadata": {},
      "source": [
        "<a id='5'></a>\n",
        "## 5 - Expectation Suite and Validator\n",
        "\n",
        "\n",
        "### Expectation Suite\n",
        "\n",
        "In order to define expectations for your data, you need to create an Expectation Suite which is a collection of expectations or assertions about your data. "
      ]
    },
    {
      "cell_type": "markdown",
      "metadata": {},
      "source": [
        "<a id='ex02'></a>\n",
        "### Exercise 2\n",
        "\n",
        "Use the `add_or_update_expectation_suite()` method of the `context` object to create a new Expectation Suite. Pass the name stored in the variable `expectation_suite_name` to the parameter `expectation_suite_name` in the same method."
      ]
    },
    {
      "cell_type": "code",
      "execution_count": 14,
      "metadata": {
        "exercise": [
          "ex02"
        ],
        "tags": [
          "graded"
        ]
      },
      "outputs": [
        {
          "data": {
            "text/plain": [
              "{\n",
              "  \"expectation_suite_name\": \"de-c2w3a1-expectation-suite-trips-taxi-db\",\n",
              "  \"ge_cloud_id\": null,\n",
              "  \"expectations\": [],\n",
              "  \"data_asset_type\": null,\n",
              "  \"meta\": {\n",
              "    \"great_expectations_version\": \"0.18.22\"\n",
              "  }\n",
              "}"
            ]
          },
          "execution_count": 14,
          "metadata": {},
          "output_type": "execute_result"
        }
      ],
      "source": [
        "# Add an expectation suite name to the context\n",
        "expectation_suite_name = f\"{LAB_PREFIX}-expectation-suite-trips-taxi-db\"\n",
        "\n",
        "### START CODE HERE ### (~ 1 line of code)\n",
        "\n",
        "context.add_or_update_expectation_suite(expectation_suite_name=expectation_suite_name)\n",
        "\n",
        "### END CODE HERE ###"
      ]
    },
    {
      "cell_type": "markdown",
      "metadata": {},
      "source": [
        "##### __Expected Output__ \n",
        "\n",
        "```json\n",
        "{\n",
        "  \"expectation_suite_name\": \"de-c2w3a1-expectation-suite-trips-taxi-db\",\n",
        "  \"ge_cloud_id\": null,\n",
        "  \"expectations\": [],\n",
        "  \"data_asset_type\": null,\n",
        "  \"meta\": {\n",
        "    \"great_expectations_version\": \"0.18.22\"\n",
        "  }\n",
        "}\n",
        "```"
      ]
    },
    {
      "cell_type": "markdown",
      "metadata": {},
      "source": [
        "### Validator\n",
        "\n",
        "In GX, a Validator is the component responsible for validating your data against your expectations. You can directly interact with the validator to manually validate your data. OR you can streamline the validation process using checkpoints. For now, let's directly interact with the validator to explore the manual process of validating your data."
      ]
    },
    {
      "cell_type": "markdown",
      "metadata": {},
      "source": [
        "<a id='ex03'></a>\n",
        "### Exercise 3\n",
        "\n",
        "Instantiate the validator by calling the `get_validator()` method of the `context` object; store it in the `validator` variable. Make sure to pass the following parameters:\n",
        "\n",
        "* `batch_request_list` as the list with batch requests you generated previously, which is stored in `batch_request_list`.\n",
        "* `expectation_suite_name` as the Expectation Suite name you used in the previous cell."
      ]
    },
    {
      "cell_type": "code",
      "execution_count": 15,
      "metadata": {},
      "outputs": [],
      "source": [
        "### START CODE HERE ### (~ 4 lines of code)\n",
        "\n",
        "validator = context.get_validator(\n",
        "    batch_request_list= batch_request_list,\n",
        "    expectation_suite_name= expectation_suite_name,\n",
        ") \n",
        "\n",
        "\n",
        "### END CODE HERE ###"
      ]
    },
    {
      "cell_type": "markdown",
      "metadata": {},
      "source": [
        "### Setting the Expectations\n",
        "\n",
        "Now you have the expectation suite and the validator objects both ready. But you still did not define any expectations for your data. An Expectation is a statement about your data that can be validated, serving to improve data quality and facilitating clearer communication about data features. Similar to assertions in Python unit tests, Expectations offer a descriptive language for specifying the conditions the data should meet. However, unlike conventional unit tests, GX applies these Expectations directly to your data rather than to code. There are several types of expectations, such as\n",
        "\n",
        "* `expect_column_values_to_not_be_null`\n",
        "* `expect_column_values_to_be_unique`\n",
        "* `expect_table_row_count_to_be_between`\n",
        "* `expect_column_values_to_be_between`\n",
        "\n",
        "And so on. You will use only a pair of those expectations for this lab. You can also check the [Expectations Gallery](https://greatexpectations.io/expectations/) to see the available expectations depending on the type of Data Source you are using."
      ]
    },
    {
      "attachments": {},
      "cell_type": "markdown",
      "metadata": {},
      "source": [
        "<a id='ex04'></a>\n",
        "### Exercise 4\n",
        "\n",
        "Using the validator, add three expectations:\n",
        "\n",
        "1. First, check that in the dataset, the `\"pickup_datetime\"` does not contain any `Null` values. Call the `expect_column_values_to_not_be_null()` method of the `validator` and pass the `\"pickup_datetime\"` column to the `column` parameter.\n",
        "2. Check that the `\"passenger_count\"` column does not contain nulls. Use the same approach as in the previous step.\n",
        "3. Check that the column `\"congestion_surcharge\"` has values between 0 and 1000. Use the `expect_column_values_to_be_between()` method to add this expectation.\n",
        "\n",
        "These expectations will be automatically added to your expectation suite and evaluated on your current Data Asset. \n",
        "\n",
        "When running the following cell you may get a pop-up like the one shown in the image\n",
        "\n",
        "![img ><](./images/enable_downlad_vscode.png)\n",
        "\n",
        "\n",
        "Just click on `Enable Downloads`. The cell should run without any issues."
      ]
    },
    {
      "cell_type": "code",
      "execution_count": 16,
      "metadata": {},
      "outputs": [
        {
          "data": {
            "application/vnd.jupyter.widget-view+json": {
              "model_id": "1a0e30d6eff443e883f3dbd57739bd51",
              "version_major": 2,
              "version_minor": 0
            },
            "text/plain": [
              "Calculating Metrics:   0%|          | 0/8 [00:00<?, ?it/s]"
            ]
          },
          "metadata": {},
          "output_type": "display_data"
        },
        {
          "data": {
            "application/vnd.jupyter.widget-view+json": {
              "model_id": "3e0d518195044bf387c49c9b8b454269",
              "version_major": 2,
              "version_minor": 0
            },
            "text/plain": [
              "Calculating Metrics:   0%|          | 0/8 [00:00<?, ?it/s]"
            ]
          },
          "metadata": {},
          "output_type": "display_data"
        },
        {
          "data": {
            "application/vnd.jupyter.widget-view+json": {
              "model_id": "4c486edefe2947a7b722619a984a3ed4",
              "version_major": 2,
              "version_minor": 0
            },
            "text/plain": [
              "Calculating Metrics:   0%|          | 0/11 [00:00<?, ?it/s]"
            ]
          },
          "metadata": {},
          "output_type": "display_data"
        },
        {
          "data": {
            "text/plain": [
              "{\n",
              "  \"success\": true,\n",
              "  \"result\": {\n",
              "    \"element_count\": 96,\n",
              "    \"unexpected_count\": 0.0,\n",
              "    \"unexpected_percent\": 0.0,\n",
              "    \"partial_unexpected_list\": [],\n",
              "    \"missing_count\": 0.0,\n",
              "    \"missing_percent\": 0.0,\n",
              "    \"unexpected_percent_total\": 0.0,\n",
              "    \"unexpected_percent_nonmissing\": 0.0\n",
              "  },\n",
              "  \"meta\": {},\n",
              "  \"exception_info\": {\n",
              "    \"raised_exception\": false,\n",
              "    \"exception_traceback\": null,\n",
              "    \"exception_message\": null\n",
              "  }\n",
              "}"
            ]
          },
          "execution_count": 16,
          "metadata": {},
          "output_type": "execute_result"
        }
      ],
      "source": [
        "### START CODE HERE ### (~ 3 lines of code)\n",
        "\n",
        "validator.expect_column_values_to_not_be_null(column=\"pickup_datetime\")\n",
        "validator.expect_column_values_to_not_be_null(column=\"passenger_count\")\n",
        "validator.expect_column_values_to_be_between(column=\"congestion_surcharge\", min_value=0, max_value=1000)\n",
        "\n",
        "### END CODE HERE ###"
      ]
    },
    {
      "cell_type": "markdown",
      "metadata": {},
      "source": [
        "##### __Expected Output__ \n",
        "\n",
        "*Note*: The actual values in the output may change.\n",
        "\n",
        "```json\n",
        "{\n",
        "  \"success\": true,\n",
        "  \"result\": {\n",
        "    \"element_count\": 96,\n",
        "    \"unexpected_count\": 0.0,\n",
        "    \"unexpected_percent\": 0.0,\n",
        "    \"partial_unexpected_list\": [],\n",
        "    \"missing_count\": 0.0,\n",
        "    \"missing_percent\": 0.0,\n",
        "    \"unexpected_percent_total\": 0.0,\n",
        "    \"unexpected_percent_nonmissing\": 0.0\n",
        "  },\n",
        "  \"meta\": {},\n",
        "  \"exception_info\": {\n",
        "    \"raised_exception\": false,\n",
        "    \"exception_traceback\": null,\n",
        "    \"exception_message\": null\n",
        "  }\n",
        "}\n",
        "```"
      ]
    },
    {
      "cell_type": "markdown",
      "metadata": {},
      "source": [
        "This corresponds to the output of the last batch that the validator has taken. Don't worry, GX actually has validated the other batches but only shows the output of the last one.\n",
        "\n",
        "Run the following cell to save your Expectation Suite to the S3 bucket (expectation store), so you can use the expectations you just defined in another session."
      ]
    },
    {
      "cell_type": "code",
      "execution_count": 17,
      "metadata": {},
      "outputs": [],
      "source": [
        "validator.save_expectation_suite(discard_failed_expectations=False)"
      ]
    },
    {
      "cell_type": "markdown",
      "metadata": {},
      "source": [
        "You can inspect your artifacts bucket. Inside the `expectations/` folder you will find a `json` file named as your Expectation Suite (`de-c2w3a1-expectation-suite-trips-taxi-db`). If you download it, you will see the expectations you have added, which will look as follows:\n",
        "\n",
        "```json\n",
        "{\n",
        "  \"data_asset_type\": null,\n",
        "  \"expectation_suite_name\": \"de-c2w3a1-expectation-suite-trips-taxi-db\",\n",
        "  \"expectations\": [\n",
        "    {\n",
        "      \"expectation_type\": \"expect_column_values_to_not_be_null\",\n",
        "      \"kwargs\": {\n",
        "        \"column\": \"pickup_datetime\"\n",
        "      },\n",
        "      \"meta\": {}\n",
        "    },\n",
        "    {\n",
        "      \"expectation_type\": \"expect_column_values_to_not_be_null\",\n",
        "      \"kwargs\": {\n",
        "        \"column\": \"passenger_count\"\n",
        "      },\n",
        "      \"meta\": {}\n",
        "    },\n",
        "    {\n",
        "      \"expectation_type\": \"expect_column_values_to_be_between\",\n",
        "      \"kwargs\": {\n",
        "        \"column\": \"congestion_surcharge\",\n",
        "        \"max_value\": 1000,\n",
        "        \"min_value\": 0\n",
        "      },\n",
        "      \"meta\": {}\n",
        "    }\n",
        "  ],\n",
        "  \"ge_cloud_id\": null,\n",
        "  \"meta\": {\n",
        "    \"great_expectations_version\": \"0.18.9\"\n",
        "  }\n",
        "}\n",
        "```"
      ]
    },
    {
      "cell_type": "markdown",
      "metadata": {},
      "source": [
        "<a id='6'></a>\n",
        "## 6 - Creating the Batch Requests and the Validations List\n",
        "\n",
        "Now in a production environment, you can't manually validate your data the way you did in the previous exercise. What you can instead do, is to load into your new environment the expectation suite that you stored, and then pass it with your batch requests to a Checkpoint object. The checkpoint will automatically create a validator to validate your data against your expectations. \n",
        "\n",
        "*Optional Notes*\n",
        "\n",
        "You may be wondering why you need to compute the validations independently of the creation of the expectations; some of the advantages of that approach are:\n",
        "\n",
        "- Modularity and Reusability: Separating the creation and computation of expectations allows you to modularize your workflow. You can create a set of reusable expectation definitions that can be applied across different batches of your dataset rewriting them each time.\n",
        "\n",
        "- Workflow Flexibility: Separating expectation creation and computation provides flexibility in how you orchestrate your data quality pipeline. You can trigger expectation computation based on different events or schedules, integrate it with other data processing steps, or parallelize computations across multiple environments.\n",
        "\n",
        "- Resource Optimization: Running and computing expectations may require different computational resources or environments compared to expectation creation. Separating these processes allows you to optimize resource allocation and scale each part of the workflow independently based on its specific requirements.\n",
        "\n",
        "- Error Isolation and Debugging: If errors occur during expectation computation, separating the creation process makes it easier to isolate and debug issues. You can focus on troubleshooting the computation step without affecting the expectation definitions themselves.\n",
        "\n",
        "*End of optional Notes*\n",
        "\n",
        "A checkpoint object expects a collection of data batches and their corresponding expectation suite. We will call this collection a validations list. So before you create the checkpoint object, let's first create the validations list.\n",
        "\n",
        "First, create a batch request from your Data Asset as you did in [Exercise 1](#ex01). Call the `build_batch_request()` in your Data Asset and store it in the variable `batch_request`. Then, create the `batches` from your Data Asset by using the `get_batch_list_from_batch_request()` method and passing the `batch_request` as a parameter."
      ]
    },
    {
      "cell_type": "code",
      "execution_count": 18,
      "metadata": {},
      "outputs": [],
      "source": [
        "# Build the batch request\n",
        "batch_request = trips.build_batch_request() \n",
        "\n",
        "# Create your batches using the batch_request from the previous cell\n",
        "batches = trips.get_batch_list_from_batch_request(batch_request)"
      ]
    },
    {
      "cell_type": "markdown",
      "metadata": {},
      "source": [
        "For the expectation suite, run the following cell to retrieve the Expectation Suite's name from the context object. In this case you only have one expectation suite that you can access from the list of Expectations Suite returned by the `list_expectation_suite_names()` method."
      ]
    },
    {
      "cell_type": "code",
      "execution_count": 19,
      "metadata": {},
      "outputs": [],
      "source": [
        "expectation_suite_name = context.list_expectation_suite_names()[0]"
      ]
    },
    {
      "cell_type": "markdown",
      "metadata": {},
      "source": [
        "<a id='ex05'></a>\n",
        "### Exercise 5\n",
        "Let's now create the validations list. This list consists of a collection of a batch request and expectation suite pairs. In other words, each element in the validations list is a dictionary that defines the batch request and its expectation suite.\n",
        "\n",
        "To create the validations list, you are given a list comprehension that you will use to iterate over each batch in the `batches` list. For each batch, define a dictionary with two keys:\n",
        "* `\"batch_request\"`: use the `batch_request` property of the current batch to define the value for this key\n",
        "* `\"expectation_suite_name\"`: use the name of the expectation suite you just retrieved. This value is the same for all elements."
      ]
    },
    {
      "cell_type": "code",
      "execution_count": 20,
      "metadata": {
        "exercise": [
          "ex05"
        ],
        "tags": [
          "graded"
        ]
      },
      "outputs": [
        {
          "data": {
            "text/plain": [
              "[{'batch_request': BatchRequest(datasource_name='de-c2w3a1-db-datasource', data_asset_name='de-c2w3a1-trips', options={'vendor_id': 1}),\n",
              "  'expectation_suite_name': 'de-c2w3a1-expectation-suite-trips-taxi-db'},\n",
              " {'batch_request': BatchRequest(datasource_name='de-c2w3a1-db-datasource', data_asset_name='de-c2w3a1-trips', options={'vendor_id': 2}),\n",
              "  'expectation_suite_name': 'de-c2w3a1-expectation-suite-trips-taxi-db'},\n",
              " {'batch_request': BatchRequest(datasource_name='de-c2w3a1-db-datasource', data_asset_name='de-c2w3a1-trips', options={'vendor_id': 4}),\n",
              "  'expectation_suite_name': 'de-c2w3a1-expectation-suite-trips-taxi-db'}]"
            ]
          },
          "execution_count": 20,
          "metadata": {},
          "output_type": "execute_result"
        }
      ],
      "source": [
        "### START CODE HERE ### (~ 4 lines of code)\n",
        "\n",
        "validations = [ \n",
        "    \n",
        "    {\"batch_request\": batch.batch_request, \"expectation_suite_name\": expectation_suite_name}\n",
        "    for batch in batches\n",
        "] \n",
        "\n",
        "\n",
        "### END CODE HERE ###\n",
        "\n",
        "validations"
      ]
    },
    {
      "cell_type": "markdown",
      "metadata": {},
      "source": [
        "##### __Expected Output__ \n",
        "\n",
        "```\n",
        "[{'batch_request': BatchRequest(datasource_name='de-c2w3a1-db-datasource', data_asset_name='de-c2w3a1-trips', options={'vendor_id': 1}),\n",
        "  'expectation_suite_name': 'de-c2w3a1-expectation-suite-trips-taxi-db'},\n",
        " {'batch_request': BatchRequest(datasource_name='de-c2w3a1-db-datasource', data_asset_name='de-c2w3a1-trips', options={'vendor_id': 2}),\n",
        "  'expectation_suite_name': 'de-c2w3a1-expectation-suite-trips-taxi-db'},\n",
        " {'batch_request': BatchRequest(datasource_name='de-c2w3a1-db-datasource', data_asset_name='de-c2w3a1-trips', options={'vendor_id': 4}),\n",
        "  'expectation_suite_name': 'de-c2w3a1-expectation-suite-trips-taxi-\n",
        "```db'}]"
      ]
    },
    {
      "cell_type": "markdown",
      "metadata": {},
      "source": [
        "<a id='7'></a>\n",
        "## 7 - Checkpoints and Computing Validations over the Dataset\n",
        "\n",
        "Let's create a Checkpoint to validate the expectations you created over your dataset. Use the `Checkpoint` instantiation and pass the following parameters:\n",
        "\n",
        "- `name` as the `checkpoint_name` variable. Take a look at how the checkpoint name is created, taking into account the current timestamp. Using a way to differentiate checkpoints will be helpful to avoid overwriting the results of the validation executions\n",
        "- `data_context`: Use the data context object `context` that you already loaded.\n",
        "- `expectation_suite_name`: The expectation suite name that you loaded.\n",
        "- `validations`: Pass the `validations` list that you generated for each of your batch requests.\n",
        "\n",
        "Take a look at the `action_list` parameter. You will see a list of different actions that will be performed after the validations are computed. Check the values associated with the `\"class_name\"` key:\n",
        "\n",
        "- `StoreValidationResultAction`: This action stores the validation results in your Validation Store. Remember that this has been set up to be saved in S3.\n",
        "- `UpdateDataDocsAction`: This action updates the data docs with the result of the validations.\n",
        "\n",
        "You can see more Actions in the documentation."
      ]
    },
    {
      "cell_type": "code",
      "execution_count": 21,
      "metadata": {},
      "outputs": [],
      "source": [
        "# Create the Checkpoint configuration that uses your Data Context\n",
        "\n",
        "timestamp = time.time()\n",
        "checkpoint_name = f\"{LAB_PREFIX}-checkpoint-trips-{timestamp}\"\n",
        "\n",
        "checkpoint = Checkpoint(\n",
        "    name=checkpoint_name,\n",
        "    run_name_template=\"trips %Y-%m-%d %H:%M:%S\",\n",
        "    data_context=context,\n",
        "    expectation_suite_name=expectation_suite_name,\n",
        "    validations=validations,\n",
        "    action_list=[\n",
        "        {\n",
        "            \"name\": \"store_validation_result\",\n",
        "            \"action\": {\"class_name\": \"StoreValidationResultAction\"},\n",
        "        },\n",
        "        {\"name\": \"update_data_docs\", \"action\": {\"class_name\": \"UpdateDataDocsAction\"}},        \n",
        "    ],\n",
        ")"
      ]
    },
    {
      "cell_type": "markdown",
      "metadata": {},
      "source": [
        "<a id='ex06'></a>\n",
        "### Exercise 6\n",
        "\n",
        "Add the created checkpoint to the data context by using the `add_or_update_checkpoint()` method and passing the `checkpoint` object that you created."
      ]
    },
    {
      "cell_type": "code",
      "execution_count": 23,
      "metadata": {},
      "outputs": [
        {
          "data": {
            "text/plain": [
              "{\n",
              "  \"action_list\": [\n",
              "    {\n",
              "      \"name\": \"store_validation_result\",\n",
              "      \"action\": {\n",
              "        \"class_name\": \"StoreValidationResultAction\"\n",
              "      }\n",
              "    },\n",
              "    {\n",
              "      \"name\": \"update_data_docs\",\n",
              "      \"action\": {\n",
              "        \"class_name\": \"UpdateDataDocsAction\"\n",
              "      }\n",
              "    }\n",
              "  ],\n",
              "  \"batch_request\": {},\n",
              "  \"class_name\": \"Checkpoint\",\n",
              "  \"config_version\": 1.0,\n",
              "  \"evaluation_parameters\": {},\n",
              "  \"expectation_suite_name\": \"de-c2w3a1-expectation-suite-trips-taxi-db\",\n",
              "  \"module_name\": \"great_expectations.checkpoint\",\n",
              "  \"name\": \"de-c2w3a1-checkpoint-trips-1750046814.1981778\",\n",
              "  \"profilers\": [],\n",
              "  \"run_name_template\": \"trips %Y-%m-%d %H:%M:%S\",\n",
              "  \"runtime_configuration\": {},\n",
              "  \"validations\": [\n",
              "    {\n",
              "      \"batch_request\": {\n",
              "        \"datasource_name\": \"de-c2w3a1-db-datasource\",\n",
              "        \"data_asset_name\": \"de-c2w3a1-trips\",\n",
              "        \"options\": {\n",
              "          \"vendor_id\": 1\n",
              "        }\n",
              "      },\n",
              "      \"expectation_suite_name\": \"de-c2w3a1-expectation-suite-trips-taxi-db\"\n",
              "    },\n",
              "    {\n",
              "      \"batch_request\": {\n",
              "        \"datasource_name\": \"de-c2w3a1-db-datasource\",\n",
              "        \"data_asset_name\": \"de-c2w3a1-trips\",\n",
              "        \"options\": {\n",
              "          \"vendor_id\": 2\n",
              "        }\n",
              "      },\n",
              "      \"expectation_suite_name\": \"de-c2w3a1-expectation-suite-trips-taxi-db\"\n",
              "    },\n",
              "    {\n",
              "      \"batch_request\": {\n",
              "        \"datasource_name\": \"de-c2w3a1-db-datasource\",\n",
              "        \"data_asset_name\": \"de-c2w3a1-trips\",\n",
              "        \"options\": {\n",
              "          \"vendor_id\": 4\n",
              "        }\n",
              "      },\n",
              "      \"expectation_suite_name\": \"de-c2w3a1-expectation-suite-trips-taxi-db\"\n",
              "    }\n",
              "  ]\n",
              "}"
            ]
          },
          "execution_count": 23,
          "metadata": {},
          "output_type": "execute_result"
        }
      ],
      "source": [
        "### START CODE HERE ### (~ 1 line of code)\n",
        "\n",
        "context.add_or_update_checkpoint(checkpoint=checkpoint)\n",
        "\n",
        "### END CODE HERE ###"
      ]
    },
    {
      "cell_type": "markdown",
      "metadata": {},
      "source": [
        "##### __Expected Output__ \n",
        "\n",
        "```json\n",
        "{\n",
        "  \"action_list\": [\n",
        "    {\n",
        "      \"name\": \"store_validation_result\",\n",
        "      \"action\": {\n",
        "        \"class_name\": \"StoreValidationResultAction\"\n",
        "      }\n",
        "    },\n",
        "    {\n",
        "      \"name\": \"update_data_docs\",\n",
        "      \"action\": {\n",
        "        \"class_name\": \"UpdateDataDocsAction\"\n",
        "      }\n",
        "    }\n",
        "  ],\n",
        "  \"batch_request\": {},\n",
        "  \"class_name\": \"Checkpoint\",\n",
        "  \"config_version\": 1.0,\n",
        "  \"evaluation_parameters\": {},\n",
        "  \"expectation_suite_name\": \"de-c2w3a1-expectation-suite-trips-taxi-db\",\n",
        "  \"module_name\": \"great_expectations.checkpoint\",\n",
        "  \"name\": \"de-c2w<TIMESTAMP>ps-1710883980.7753274\",\n",
        "  \"profilers\": [],\n",
        "  \"run_name_template\": \"trips %Y-%m-%d %H:%M:%S\",\n",
        "  \"runtime_configuration\": {},\n",
        "  \"validations\": [\n",
        "    {\n",
        "      \"batch_request\": {\n",
        "        \"datasource_name\": \"de-c2w3a1-db-datasource\",\n",
        "        \"data_asset_name\": \"de-c2w3a1-trips\",\n",
        "        \"options\": {\n",
        "          \"vendor_id\": 1\n",
        "        }\n",
        "      },\n",
        "      \"expectation_suite_name\": \"de-c2w3a1-expectation-suite-trips-taxi-db\"\n",
        "    },\n",
        "    {\n",
        "      \"batch_request\": {\n",
        "        \"datasource_name\": \"de-c2w3a1-db-datasource\",\n",
        "        \"data_asset_name\": \"de-c2w3a1-trips\",\n",
        "        \"options\": {\n",
        "          \"vendor_id\": 2\n",
        "        }\n",
        "      },\n",
        "      \"expectation_suite_name\": \"de-c2w3a1-expectation-suite-trips-taxi-db\"\n",
        "    },\n",
        "    {\n",
        "      \"batch_request\": {\n",
        "        \"datasource_name\": \"de-c2w3a1-db-datasource\",\n",
        "        \"data_asset_name\": \"de-c2w3a1-trips\",\n",
        "        \"options\": {\n",
        "          \"vendor_id\": 4\n",
        "        }\n",
        "      },\n",
        "      \"expectation_suite_name\": \"de-c2w3a1-expectation-suite-trips-taxi-db\"\n",
        "    }\n",
        "  ]\n",
        "}\n",
        "```"
      ]
    },
    {
      "cell_type": "markdown",
      "metadata": {},
      "source": [
        "Take a look at your Artifacts S3 bucket in the `checkpoints/` folder. After this command run, there should be a subfolder with the same name as your checkpoint, like `de-c2w3a1-checkpoint-trips-<TIMESTAMP>` and inside of it, you will find a YAML file that contains the same configuration that you saw in the previous output:\n",
        "\n",
        "```yaml\n",
        "name: de-c2w3a1-checkpoint-trips-<TIMESTAMP>\n",
        "config_version: 1.0\n",
        "template_name:\n",
        "module_name: great_expectations.checkpoint\n",
        "class_name: Checkpoint\n",
        "run_name_template: trips %Y-%m-%d %H:%M:%S\n",
        "expectation_suite_name: de-c2w3a1-expectation-suite-trips-taxi-db\n",
        "batch_request: {}\n",
        "action_list:\n",
        "  - name: store_validation_result\n",
        "    action:\n",
        "      class_name: StoreValidationResultAction\n",
        "  - name: update_data_docs\n",
        "    action:\n",
        "      class_name: UpdateDataDocsAction\n",
        "evaluation_parameters: {}\n",
        "runtime_configuration: {}\n",
        "validations:\n",
        "  - batch_request:\n",
        "      datasource_name: de-c2w3a1-db-datasource\n",
        "      data_asset_name: de-c2w3a1-trips\n",
        "      options:\n",
        "        vendor_id: 1\n",
        "    expectation_suite_name: de-c2w3a1-expectation-suite-trips-taxi-db\n",
        "  - batch_request:\n",
        "      datasource_name: de-c2w3a1-db-datasource\n",
        "      data_asset_name: de-c2w3a1-trips\n",
        "      options:\n",
        "        vendor_id: 2\n",
        "    expectation_suite_name: de-c2w3a1-expectation-suite-trips-taxi-db\n",
        "  - batch_request:\n",
        "      datasource_name: de-c2w3a1-db-datasource\n",
        "      data_asset_name: de-c2w3a1-trips\n",
        "      options:\n",
        "        vendor_id: 4\n",
        "    expectation_suite_name: de-c2w3a1-expectation-suite-trips-taxi-db\n",
        "profilers: []\n",
        "ge_cloud_id:\n",
        "expectation_suite_ge_cloud_id:\n",
        "```"
      ]
    },
    {
      "cell_type": "markdown",
      "metadata": {},
      "source": [
        "Now, it is time to run your validations. Execute the following command to compute the expectations over your dataset. This step can take some time as validations are computed for all batches, so you will see a progress bar showing the computation of the metrics for each of the batches."
      ]
    },
    {
      "cell_type": "code",
      "execution_count": 26,
      "metadata": {},
      "outputs": [
        {
          "data": {
            "application/vnd.jupyter.widget-view+json": {
              "model_id": "c56eafe1749f4a89930455d5c2ed0ac8",
              "version_major": 2,
              "version_minor": 0
            },
            "text/plain": [
              "Calculating Metrics:   0%|          | 0/25 [00:00<?, ?it/s]"
            ]
          },
          "metadata": {},
          "output_type": "display_data"
        },
        {
          "name": "stderr",
          "output_type": "stream",
          "text": [
            "An unexpected Exception occurred during data docs rendering.  Because of this error, certain parts of data docs will not be rendered properly and/or may not appear altogether.  Please use the trace, included in this message, to diagnose and repair the underlying issue.  Detailed information follows:\n",
            "                ParamValidationError: \"Parameter validation failed:\n",
            "Invalid bucket name \"<GX-DOCS-BUCKET>\": Bucket name must match the regex \"^[a-zA-Z0-9.\\-_]{1,255}$\" or be an ARN matching the regex \"^arn:(aws).*:(s3|s3-object-lambda):[a-z\\-0-9]*:[0-9]{12}:accesspoint[/:][a-zA-Z0-9\\-.]{1,63}$|^arn:(aws).*:s3-outposts:[a-z\\-0-9]+:[0-9]{12}:outpost[/:][a-zA-Z0-9\\-]{1,63}[/:]accesspoint[/:][a-zA-Z0-9\\-]{1,63}$\"\".  Traceback: \"Traceback (most recent call last):\n",
            "  File \"/home/coder/miniconda/lib/python3.12/site-packages/great_expectations/render/renderer/site_builder.py\", line 501, in build\n",
            "    self.target_store.set(\n",
            "  File \"/home/coder/miniconda/lib/python3.12/site-packages/great_expectations/data_context/store/html_site_store.py\", line 269, in set\n",
            "    return self.store_backends[type(key.resource_identifier)].set(\n",
            "           ^^^^^^^^^^^^^^^^^^^^^^^^^^^^^^^^^^^^^^^^^^^^^^^^^^^^^^^\n",
            "  File \"/home/coder/miniconda/lib/python3.12/site-packages/great_expectations/data_context/store/_store_backend.py\", line 134, in set\n",
            "    return self._set(key, value, **kwargs)\n",
            "           ^^^^^^^^^^^^^^^^^^^^^^^^^^^^^^^\n",
            "  File \"/home/coder/miniconda/lib/python3.12/site-packages/great_expectations/data_context/store/tuple_store_backend.py\", line 600, in _set\n",
            "    result_s3.put(\n",
            "  File \"/home/coder/miniconda/lib/python3.12/site-packages/boto3/resources/factory.py\", line 581, in do_action\n",
            "    response = action(self, *args, **kwargs)\n",
            "               ^^^^^^^^^^^^^^^^^^^^^^^^^^^^^\n",
            "  File \"/home/coder/miniconda/lib/python3.12/site-packages/boto3/resources/action.py\", line 88, in __call__\n",
            "    response = getattr(parent.meta.client, operation_name)(*args, **params)\n",
            "               ^^^^^^^^^^^^^^^^^^^^^^^^^^^^^^^^^^^^^^^^^^^^^^^^^^^^^^^^^^^^\n",
            "  File \"/home/coder/miniconda/lib/python3.12/site-packages/botocore/client.py\", line 553, in _api_call\n",
            "    return self._make_api_call(operation_name, kwargs)\n",
            "           ^^^^^^^^^^^^^^^^^^^^^^^^^^^^^^^^^^^^^^^^^^^\n",
            "  File \"/home/coder/miniconda/lib/python3.12/site-packages/botocore/client.py\", line 946, in _make_api_call\n",
            "    api_params = self._emit_api_params(\n",
            "                 ^^^^^^^^^^^^^^^^^^^^^^\n",
            "  File \"/home/coder/miniconda/lib/python3.12/site-packages/botocore/client.py\", line 1072, in _emit_api_params\n",
            "    self.meta.events.emit(\n",
            "  File \"/home/coder/miniconda/lib/python3.12/site-packages/botocore/hooks.py\", line 412, in emit\n",
            "    return self._emitter.emit(aliased_event_name, **kwargs)\n",
            "           ^^^^^^^^^^^^^^^^^^^^^^^^^^^^^^^^^^^^^^^^^^^^^^^^\n",
            "  File \"/home/coder/miniconda/lib/python3.12/site-packages/botocore/hooks.py\", line 256, in emit\n",
            "    return self._emit(event_name, kwargs)\n",
            "           ^^^^^^^^^^^^^^^^^^^^^^^^^^^^^^\n",
            "  File \"/home/coder/miniconda/lib/python3.12/site-packages/botocore/hooks.py\", line 239, in _emit\n",
            "    response = handler(**kwargs)\n",
            "               ^^^^^^^^^^^^^^^^^\n",
            "  File \"/home/coder/miniconda/lib/python3.12/site-packages/botocore/handlers.py\", line 288, in validate_bucket_name\n",
            "    raise ParamValidationError(report=error_msg)\n",
            "botocore.exceptions.ParamValidationError: Parameter validation failed:\n",
            "Invalid bucket name \"<GX-DOCS-BUCKET>\": Bucket name must match the regex \"^[a-zA-Z0-9.\\-_]{1,255}$\" or be an ARN matching the regex \"^arn:(aws).*:(s3|s3-object-lambda):[a-z\\-0-9]*:[0-9]{12}:accesspoint[/:][a-zA-Z0-9\\-.]{1,63}$|^arn:(aws).*:s3-outposts:[a-z\\-0-9]+:[0-9]{12}:outpost[/:][a-zA-Z0-9\\-]{1,63}[/:]accesspoint[/:][a-zA-Z0-9\\-]{1,63}$\"\n",
            "\".\n",
            "An unexpected Exception occurred during data docs rendering.  Because of this error, certain parts of data docs will not be rendered properly and/or may not appear altogether.  Please use the trace, included in this message, to diagnose and repair the underlying issue.  Detailed information follows:\n",
            "                ParamValidationError: \"Parameter validation failed:\n",
            "Invalid bucket name \"<GX-DOCS-BUCKET>\": Bucket name must match the regex \"^[a-zA-Z0-9.\\-_]{1,255}$\" or be an ARN matching the regex \"^arn:(aws).*:(s3|s3-object-lambda):[a-z\\-0-9]*:[0-9]{12}:accesspoint[/:][a-zA-Z0-9\\-.]{1,63}$|^arn:(aws).*:s3-outposts:[a-z\\-0-9]+:[0-9]{12}:outpost[/:][a-zA-Z0-9\\-]{1,63}[/:]accesspoint[/:][a-zA-Z0-9\\-]{1,63}$\"\".  Traceback: \"Traceback (most recent call last):\n",
            "  File \"/home/coder/miniconda/lib/python3.12/site-packages/great_expectations/render/renderer/site_builder.py\", line 501, in build\n",
            "    self.target_store.set(\n",
            "  File \"/home/coder/miniconda/lib/python3.12/site-packages/great_expectations/data_context/store/html_site_store.py\", line 269, in set\n",
            "    return self.store_backends[type(key.resource_identifier)].set(\n",
            "           ^^^^^^^^^^^^^^^^^^^^^^^^^^^^^^^^^^^^^^^^^^^^^^^^^^^^^^^\n",
            "  File \"/home/coder/miniconda/lib/python3.12/site-packages/great_expectations/data_context/store/_store_backend.py\", line 134, in set\n",
            "    return self._set(key, value, **kwargs)\n",
            "           ^^^^^^^^^^^^^^^^^^^^^^^^^^^^^^^\n",
            "  File \"/home/coder/miniconda/lib/python3.12/site-packages/great_expectations/data_context/store/tuple_store_backend.py\", line 600, in _set\n",
            "    result_s3.put(\n",
            "  File \"/home/coder/miniconda/lib/python3.12/site-packages/boto3/resources/factory.py\", line 581, in do_action\n",
            "    response = action(self, *args, **kwargs)\n",
            "               ^^^^^^^^^^^^^^^^^^^^^^^^^^^^^\n",
            "  File \"/home/coder/miniconda/lib/python3.12/site-packages/boto3/resources/action.py\", line 88, in __call__\n",
            "    response = getattr(parent.meta.client, operation_name)(*args, **params)\n",
            "               ^^^^^^^^^^^^^^^^^^^^^^^^^^^^^^^^^^^^^^^^^^^^^^^^^^^^^^^^^^^^\n",
            "  File \"/home/coder/miniconda/lib/python3.12/site-packages/botocore/client.py\", line 553, in _api_call\n",
            "    return self._make_api_call(operation_name, kwargs)\n",
            "           ^^^^^^^^^^^^^^^^^^^^^^^^^^^^^^^^^^^^^^^^^^^\n",
            "  File \"/home/coder/miniconda/lib/python3.12/site-packages/botocore/client.py\", line 946, in _make_api_call\n",
            "    api_params = self._emit_api_params(\n",
            "                 ^^^^^^^^^^^^^^^^^^^^^^\n",
            "  File \"/home/coder/miniconda/lib/python3.12/site-packages/botocore/client.py\", line 1072, in _emit_api_params\n",
            "    self.meta.events.emit(\n",
            "  File \"/home/coder/miniconda/lib/python3.12/site-packages/botocore/hooks.py\", line 412, in emit\n",
            "    return self._emitter.emit(aliased_event_name, **kwargs)\n",
            "           ^^^^^^^^^^^^^^^^^^^^^^^^^^^^^^^^^^^^^^^^^^^^^^^^\n",
            "  File \"/home/coder/miniconda/lib/python3.12/site-packages/botocore/hooks.py\", line 256, in emit\n",
            "    return self._emit(event_name, kwargs)\n",
            "           ^^^^^^^^^^^^^^^^^^^^^^^^^^^^^^\n",
            "  File \"/home/coder/miniconda/lib/python3.12/site-packages/botocore/hooks.py\", line 239, in _emit\n",
            "    response = handler(**kwargs)\n",
            "               ^^^^^^^^^^^^^^^^^\n",
            "  File \"/home/coder/miniconda/lib/python3.12/site-packages/botocore/handlers.py\", line 288, in validate_bucket_name\n",
            "    raise ParamValidationError(report=error_msg)\n",
            "botocore.exceptions.ParamValidationError: Parameter validation failed:\n",
            "Invalid bucket name \"<GX-DOCS-BUCKET>\": Bucket name must match the regex \"^[a-zA-Z0-9.\\-_]{1,255}$\" or be an ARN matching the regex \"^arn:(aws).*:(s3|s3-object-lambda):[a-z\\-0-9]*:[0-9]{12}:accesspoint[/:][a-zA-Z0-9\\-.]{1,63}$|^arn:(aws).*:s3-outposts:[a-z\\-0-9]+:[0-9]{12}:outpost[/:][a-zA-Z0-9\\-]{1,63}[/:]accesspoint[/:][a-zA-Z0-9\\-]{1,63}$\"\n",
            "\".\n",
            "Error running action with name update_data_docs\n",
            "Traceback (most recent call last):\n",
            "  File \"/home/coder/miniconda/lib/python3.12/site-packages/great_expectations/validation_operators/validation_operators.py\", line 476, in _run_actions\n",
            "    action_result = self.actions[name].run(\n",
            "                    ^^^^^^^^^^^^^^^^^^^^^^^\n",
            "  File \"/home/coder/miniconda/lib/python3.12/site-packages/great_expectations/checkpoint/actions.py\", line 101, in run\n",
            "    return self._run(\n",
            "           ^^^^^^^^^^\n",
            "  File \"/home/coder/miniconda/lib/python3.12/site-packages/great_expectations/checkpoint/actions.py\", line 1190, in _run\n",
            "    self.data_context.build_data_docs(\n",
            "  File \"/home/coder/miniconda/lib/python3.12/site-packages/great_expectations/core/usage_statistics/usage_statistics.py\", line 266, in usage_statistics_wrapped_method\n",
            "    result = func(*args, **kwargs)\n",
            "             ^^^^^^^^^^^^^^^^^^^^^\n",
            "  File \"/home/coder/miniconda/lib/python3.12/site-packages/great_expectations/data_context/data_context/abstract_data_context.py\", line 5318, in build_data_docs\n",
            "    return self._build_data_docs(\n",
            "           ^^^^^^^^^^^^^^^^^^^^^^\n",
            "  File \"/home/coder/miniconda/lib/python3.12/site-packages/great_expectations/data_context/data_context/abstract_data_context.py\", line 5365, in _build_data_docs\n",
            "    index_page_resource_identifier_tuple = site_builder.build(\n",
            "                                           ^^^^^^^^^^^^^^^^^^^\n",
            "  File \"/home/coder/miniconda/lib/python3.12/site-packages/great_expectations/render/renderer/site_builder.py\", line 329, in build\n",
            "    self.target_store.copy_static_assets()\n",
            "  File \"/home/coder/miniconda/lib/python3.12/site-packages/great_expectations/data_context/store/html_site_store.py\", line 412, in copy_static_assets\n",
            "    self.copy_static_assets(new_source_dir)\n",
            "  File \"/home/coder/miniconda/lib/python3.12/site-packages/great_expectations/data_context/store/html_site_store.py\", line 412, in copy_static_assets\n",
            "    self.copy_static_assets(new_source_dir)\n",
            "  File \"/home/coder/miniconda/lib/python3.12/site-packages/great_expectations/data_context/store/html_site_store.py\", line 441, in copy_static_assets\n",
            "    self.store_backends[\"static_assets\"].set(\n",
            "  File \"/home/coder/miniconda/lib/python3.12/site-packages/great_expectations/data_context/store/_store_backend.py\", line 134, in set\n",
            "    return self._set(key, value, **kwargs)\n",
            "           ^^^^^^^^^^^^^^^^^^^^^^^^^^^^^^^\n",
            "  File \"/home/coder/miniconda/lib/python3.12/site-packages/great_expectations/data_context/store/tuple_store_backend.py\", line 607, in _set\n",
            "    result_s3.put(\n",
            "  File \"/home/coder/miniconda/lib/python3.12/site-packages/boto3/resources/factory.py\", line 581, in do_action\n",
            "    response = action(self, *args, **kwargs)\n",
            "               ^^^^^^^^^^^^^^^^^^^^^^^^^^^^^\n",
            "  File \"/home/coder/miniconda/lib/python3.12/site-packages/boto3/resources/action.py\", line 88, in __call__\n",
            "    response = getattr(parent.meta.client, operation_name)(*args, **params)\n",
            "               ^^^^^^^^^^^^^^^^^^^^^^^^^^^^^^^^^^^^^^^^^^^^^^^^^^^^^^^^^^^^\n",
            "  File \"/home/coder/miniconda/lib/python3.12/site-packages/botocore/client.py\", line 553, in _api_call\n",
            "    return self._make_api_call(operation_name, kwargs)\n",
            "           ^^^^^^^^^^^^^^^^^^^^^^^^^^^^^^^^^^^^^^^^^^^\n",
            "  File \"/home/coder/miniconda/lib/python3.12/site-packages/botocore/client.py\", line 946, in _make_api_call\n",
            "    api_params = self._emit_api_params(\n",
            "                 ^^^^^^^^^^^^^^^^^^^^^^\n",
            "  File \"/home/coder/miniconda/lib/python3.12/site-packages/botocore/client.py\", line 1072, in _emit_api_params\n",
            "    self.meta.events.emit(\n",
            "  File \"/home/coder/miniconda/lib/python3.12/site-packages/botocore/hooks.py\", line 412, in emit\n",
            "    return self._emitter.emit(aliased_event_name, **kwargs)\n",
            "           ^^^^^^^^^^^^^^^^^^^^^^^^^^^^^^^^^^^^^^^^^^^^^^^^\n",
            "  File \"/home/coder/miniconda/lib/python3.12/site-packages/botocore/hooks.py\", line 256, in emit\n",
            "    return self._emit(event_name, kwargs)\n",
            "           ^^^^^^^^^^^^^^^^^^^^^^^^^^^^^^\n",
            "  File \"/home/coder/miniconda/lib/python3.12/site-packages/botocore/hooks.py\", line 239, in _emit\n",
            "    response = handler(**kwargs)\n",
            "               ^^^^^^^^^^^^^^^^^\n",
            "  File \"/home/coder/miniconda/lib/python3.12/site-packages/botocore/handlers.py\", line 288, in validate_bucket_name\n",
            "    raise ParamValidationError(report=error_msg)\n",
            "botocore.exceptions.ParamValidationError: Parameter validation failed:\n",
            "Invalid bucket name \"<GX-DOCS-BUCKET>\": Bucket name must match the regex \"^[a-zA-Z0-9.\\-_]{1,255}$\" or be an ARN matching the regex \"^arn:(aws).*:(s3|s3-object-lambda):[a-z\\-0-9]*:[0-9]{12}:accesspoint[/:][a-zA-Z0-9\\-.]{1,63}$|^arn:(aws).*:s3-outposts:[a-z\\-0-9]+:[0-9]{12}:outpost[/:][a-zA-Z0-9\\-]{1,63}[/:]accesspoint[/:][a-zA-Z0-9\\-]{1,63}$\"\n"
          ]
        },
        {
          "ename": "ParamValidationError",
          "evalue": "Parameter validation failed:\nInvalid bucket name \"<GX-DOCS-BUCKET>\": Bucket name must match the regex \"^[a-zA-Z0-9.\\-_]{1,255}$\" or be an ARN matching the regex \"^arn:(aws).*:(s3|s3-object-lambda):[a-z\\-0-9]*:[0-9]{12}:accesspoint[/:][a-zA-Z0-9\\-.]{1,63}$|^arn:(aws).*:s3-outposts:[a-z\\-0-9]+:[0-9]{12}:outpost[/:][a-zA-Z0-9\\-]{1,63}[/:]accesspoint[/:][a-zA-Z0-9\\-]{1,63}$\"",
          "output_type": "error",
          "traceback": [
            "\u001b[0;31m---------------------------------------------------------------------------\u001b[0m",
            "\u001b[0;31mParamValidationError\u001b[0m                      Traceback (most recent call last)",
            "Cell \u001b[0;32mIn[26], line 1\u001b[0m\n\u001b[0;32m----> 1\u001b[0m checkpoint_result \u001b[39m=\u001b[39m checkpoint\u001b[39m.\u001b[39mrun()\n",
            "File \u001b[0;32m~/miniconda/lib/python3.12/site-packages/great_expectations/core/usage_statistics/usage_statistics.py:266\u001b[0m, in \u001b[0;36musage_statistics_enabled_method.<locals>.usage_statistics_wrapped_method\u001b[0;34m(*args, **kwargs)\u001b[0m\n\u001b[1;32m    263\u001b[0m         args_payload \u001b[39m=\u001b[39m args_payload_fn(\u001b[39m*\u001b[39margs, \u001b[39m*\u001b[39m\u001b[39m*\u001b[39mkwargs) \u001b[39mor\u001b[39;00m {}\n\u001b[1;32m    264\u001b[0m         nested_update(event_payload, args_payload)\n\u001b[0;32m--> 266\u001b[0m     result \u001b[39m=\u001b[39m func(\u001b[39m*\u001b[39margs, \u001b[39m*\u001b[39m\u001b[39m*\u001b[39mkwargs)\n\u001b[1;32m    267\u001b[0m     message[\u001b[39m\"\u001b[39m\u001b[39msuccess\u001b[39m\u001b[39m\"\u001b[39m] \u001b[39m=\u001b[39m \u001b[39mTrue\u001b[39;00m\n\u001b[1;32m    268\u001b[0m \u001b[39mexcept\u001b[39;00m \u001b[39mException\u001b[39;00m:\n",
            "File \u001b[0;32m~/miniconda/lib/python3.12/site-packages/great_expectations/checkpoint/checkpoint.py:305\u001b[0m, in \u001b[0;36mBaseCheckpoint.run\u001b[0;34m(self, template_name, run_name_template, expectation_suite_name, batch_request, validator, action_list, evaluation_parameters, runtime_configuration, validations, profilers, run_id, run_name, run_time, result_format, expectation_suite_ge_cloud_id)\u001b[0m\n\u001b[1;32m    303\u001b[0m \u001b[39mif\u001b[39;00m \u001b[39mlen\u001b[39m(validations) \u001b[39m>\u001b[39m \u001b[39m0\u001b[39m:\n\u001b[1;32m    304\u001b[0m     \u001b[39mfor\u001b[39;00m idx, validation_dict \u001b[39min\u001b[39;00m \u001b[39menumerate\u001b[39m(validations):\n\u001b[0;32m--> 305\u001b[0m         \u001b[39mself\u001b[39m\u001b[39m.\u001b[39m_run_validation(\n\u001b[1;32m    306\u001b[0m             substituted_runtime_config\u001b[39m=\u001b[39msubstituted_runtime_config,\n\u001b[1;32m    307\u001b[0m             async_validation_operator_results\u001b[39m=\u001b[39masync_validation_operator_results,\n\u001b[1;32m    308\u001b[0m             async_executor\u001b[39m=\u001b[39masync_executor,\n\u001b[1;32m    309\u001b[0m             result_format\u001b[39m=\u001b[39mresult_format,\n\u001b[1;32m    310\u001b[0m             run_id\u001b[39m=\u001b[39mrun_id,\n\u001b[1;32m    311\u001b[0m             idx\u001b[39m=\u001b[39midx,\n\u001b[1;32m    312\u001b[0m             validation_dict\u001b[39m=\u001b[39mvalidation_dict,\n\u001b[1;32m    313\u001b[0m         )\n\u001b[1;32m    314\u001b[0m \u001b[39melse\u001b[39;00m:\n\u001b[1;32m    315\u001b[0m     \u001b[39mself\u001b[39m\u001b[39m.\u001b[39m_run_validation(\n\u001b[1;32m    316\u001b[0m         substituted_runtime_config\u001b[39m=\u001b[39msubstituted_runtime_config,\n\u001b[1;32m    317\u001b[0m         async_validation_operator_results\u001b[39m=\u001b[39masync_validation_operator_results,\n\u001b[0;32m   (...)\u001b[0m\n\u001b[1;32m    320\u001b[0m         run_id\u001b[39m=\u001b[39mrun_id,\n\u001b[1;32m    321\u001b[0m     )\n",
            "File \u001b[0;32m~/miniconda/lib/python3.12/site-packages/great_expectations/checkpoint/checkpoint.py:531\u001b[0m, in \u001b[0;36mBaseCheckpoint._run_validation\u001b[0;34m(self, substituted_runtime_config, async_validation_operator_results, async_executor, result_format, run_id, idx, validation_dict)\u001b[0m\n\u001b[1;32m    527\u001b[0m         operator_run_kwargs[\u001b[39m\"\u001b[39m\u001b[39mcatch_exceptions\u001b[39m\u001b[39m\"\u001b[39m] \u001b[39m=\u001b[39m catch_exceptions_validation\n\u001b[1;32m    529\u001b[0m     validation_id: \u001b[39mstr\u001b[39m \u001b[39m|\u001b[39m \u001b[39mNone\u001b[39;00m \u001b[39m=\u001b[39m substituted_validation_dict\u001b[39m.\u001b[39mget(\u001b[39m\"\u001b[39m\u001b[39mid\u001b[39m\u001b[39m\"\u001b[39m)\n\u001b[0;32m--> 531\u001b[0m     async_validation_operator_result \u001b[39m=\u001b[39m async_executor\u001b[39m.\u001b[39msubmit(\n\u001b[1;32m    532\u001b[0m         action_list_validation_operator\u001b[39m.\u001b[39mrun,\n\u001b[1;32m    533\u001b[0m         assets_to_validate\u001b[39m=\u001b[39m[validator],\n\u001b[1;32m    534\u001b[0m         run_id\u001b[39m=\u001b[39mrun_id,\n\u001b[1;32m    535\u001b[0m         evaluation_parameters\u001b[39m=\u001b[39msubstituted_validation_dict\u001b[39m.\u001b[39mget(\n\u001b[1;32m    536\u001b[0m             \u001b[39m\"\u001b[39m\u001b[39mevaluation_parameters\u001b[39m\u001b[39m\"\u001b[39m\n\u001b[1;32m    537\u001b[0m         ),\n\u001b[1;32m    538\u001b[0m         result_format\u001b[39m=\u001b[39mresult_format,\n\u001b[1;32m    539\u001b[0m         checkpoint_identifier\u001b[39m=\u001b[39mcheckpoint_identifier,\n\u001b[1;32m    540\u001b[0m         checkpoint_name\u001b[39m=\u001b[39m\u001b[39mself\u001b[39m\u001b[39m.\u001b[39mname,\n\u001b[1;32m    541\u001b[0m         validation_id\u001b[39m=\u001b[39mvalidation_id,\n\u001b[1;32m    542\u001b[0m         \u001b[39m*\u001b[39m\u001b[39m*\u001b[39moperator_run_kwargs,\n\u001b[1;32m    543\u001b[0m     )\n\u001b[1;32m    544\u001b[0m     async_validation_operator_results\u001b[39m.\u001b[39mappend(async_validation_operator_result)\n\u001b[1;32m    545\u001b[0m \u001b[39mexcept\u001b[39;00m (\n\u001b[1;32m    546\u001b[0m     gx_exceptions\u001b[39m.\u001b[39mCheckpointError,\n\u001b[1;32m    547\u001b[0m     gx_exceptions\u001b[39m.\u001b[39mExecutionEngineError,\n\u001b[1;32m    548\u001b[0m     gx_exceptions\u001b[39m.\u001b[39mMetricError,\n\u001b[1;32m    549\u001b[0m ) \u001b[39mas\u001b[39;00m e:\n",
            "File \u001b[0;32m~/miniconda/lib/python3.12/site-packages/great_expectations/core/async_executor.py:106\u001b[0m, in \u001b[0;36mAsyncExecutor.submit\u001b[0;34m(self, fn, *args, **kwargs)\u001b[0m\n\u001b[1;32m    102\u001b[0m     \u001b[39mreturn\u001b[39;00m AsyncResult(\n\u001b[1;32m    103\u001b[0m         future\u001b[39m=\u001b[39m\u001b[39mself\u001b[39m\u001b[39m.\u001b[39m_thread_pool_executor\u001b[39m.\u001b[39msubmit(fn, \u001b[39m*\u001b[39margs, \u001b[39m*\u001b[39m\u001b[39m*\u001b[39mkwargs)  \u001b[39m# type: ignore[union-attr]\u001b[39;00m\n\u001b[1;32m    104\u001b[0m     )\n\u001b[1;32m    105\u001b[0m \u001b[39melse\u001b[39;00m:\n\u001b[0;32m--> 106\u001b[0m     \u001b[39mreturn\u001b[39;00m AsyncResult(value\u001b[39m=\u001b[39mfn(\u001b[39m*\u001b[39margs, \u001b[39m*\u001b[39m\u001b[39m*\u001b[39mkwargs))\n",
            "File \u001b[0;32m~/miniconda/lib/python3.12/site-packages/great_expectations/validation_operators/validation_operators.py:413\u001b[0m, in \u001b[0;36mActionListValidationOperator.run\u001b[0;34m(self, assets_to_validate, run_id, evaluation_parameters, run_name, run_time, catch_exceptions, result_format, checkpoint_identifier, checkpoint_name, validation_id)\u001b[0m\n\u001b[1;32m    408\u001b[0m validation_result\u001b[39m.\u001b[39mmeta[\u001b[39m\"\u001b[39m\u001b[39mvalidation_id\u001b[39m\u001b[39m\"\u001b[39m] \u001b[39m=\u001b[39m validation_id\n\u001b[1;32m    409\u001b[0m validation_result\u001b[39m.\u001b[39mmeta[\u001b[39m\"\u001b[39m\u001b[39mcheckpoint_id\u001b[39m\u001b[39m\"\u001b[39m] \u001b[39m=\u001b[39m (\n\u001b[1;32m    410\u001b[0m     checkpoint_identifier\u001b[39m.\u001b[39mid \u001b[39mif\u001b[39;00m checkpoint_identifier \u001b[39melse\u001b[39;00m \u001b[39mNone\u001b[39;00m\n\u001b[1;32m    411\u001b[0m )\n\u001b[0;32m--> 413\u001b[0m batch_actions_results \u001b[39m=\u001b[39m \u001b[39mself\u001b[39m\u001b[39m.\u001b[39m_run_actions(\n\u001b[1;32m    414\u001b[0m     batch\u001b[39m=\u001b[39mbatch,\n\u001b[1;32m    415\u001b[0m     expectation_suite_identifier\u001b[39m=\u001b[39mexpectation_suite_identifier,\n\u001b[1;32m    416\u001b[0m     expectation_suite\u001b[39m=\u001b[39mbatch\u001b[39m.\u001b[39m_expectation_suite,\n\u001b[1;32m    417\u001b[0m     batch_validation_result\u001b[39m=\u001b[39mvalidation_result,\n\u001b[1;32m    418\u001b[0m     run_id\u001b[39m=\u001b[39mrun_id,\n\u001b[1;32m    419\u001b[0m     validation_result_id\u001b[39m=\u001b[39mvalidation_result_id,\n\u001b[1;32m    420\u001b[0m     checkpoint_identifier\u001b[39m=\u001b[39mcheckpoint_identifier,\n\u001b[1;32m    421\u001b[0m )\n\u001b[1;32m    423\u001b[0m run_result_obj \u001b[39m=\u001b[39m {\n\u001b[1;32m    424\u001b[0m     \u001b[39m\"\u001b[39m\u001b[39mvalidation_result\u001b[39m\u001b[39m\"\u001b[39m: validation_result,\n\u001b[1;32m    425\u001b[0m     \u001b[39m\"\u001b[39m\u001b[39mactions_results\u001b[39m\u001b[39m\"\u001b[39m: batch_actions_results,\n\u001b[1;32m    426\u001b[0m }\n\u001b[1;32m    427\u001b[0m run_results[validation_result_id] \u001b[39m=\u001b[39m run_result_obj\n",
            "File \u001b[0;32m~/miniconda/lib/python3.12/site-packages/great_expectations/validation_operators/validation_operators.py:506\u001b[0m, in \u001b[0;36mActionListValidationOperator._run_actions\u001b[0;34m(self, batch, expectation_suite_identifier, expectation_suite, batch_validation_result, run_id, validation_result_id, checkpoint_identifier)\u001b[0m\n\u001b[1;32m    504\u001b[0m     \u001b[39mexcept\u001b[39;00m \u001b[39mException\u001b[39;00m \u001b[39mas\u001b[39;00m e:\n\u001b[1;32m    505\u001b[0m         logger\u001b[39m.\u001b[39mexception(\u001b[39mf\u001b[39m\u001b[39m\"\u001b[39m\u001b[39mError running action with name \u001b[39m\u001b[39m{\u001b[39;00maction[\u001b[39m'\u001b[39m\u001b[39mname\u001b[39m\u001b[39m'\u001b[39m]\u001b[39m}\u001b[39;00m\u001b[39m\"\u001b[39m)\n\u001b[0;32m--> 506\u001b[0m         \u001b[39mraise\u001b[39;00m e\n\u001b[1;32m    508\u001b[0m \u001b[39mreturn\u001b[39;00m batch_actions_results\n",
            "File \u001b[0;32m~/miniconda/lib/python3.12/site-packages/great_expectations/validation_operators/validation_operators.py:476\u001b[0m, in \u001b[0;36mActionListValidationOperator._run_actions\u001b[0;34m(self, batch, expectation_suite_identifier, expectation_suite, batch_validation_result, run_id, validation_result_id, checkpoint_identifier)\u001b[0m\n\u001b[1;32m    470\u001b[0m     validation_result_id \u001b[39m=\u001b[39m ValidationResultIdentifier(\n\u001b[1;32m    471\u001b[0m         expectation_suite_identifier\u001b[39m=\u001b[39mexpectation_suite_identifier,\n\u001b[1;32m    472\u001b[0m         run_id\u001b[39m=\u001b[39mrun_id,\n\u001b[1;32m    473\u001b[0m         batch_identifier\u001b[39m=\u001b[39mbatch_identifier,\n\u001b[1;32m    474\u001b[0m     )\n\u001b[1;32m    475\u001b[0m \u001b[39mtry\u001b[39;00m:\n\u001b[0;32m--> 476\u001b[0m     action_result \u001b[39m=\u001b[39m \u001b[39mself\u001b[39m\u001b[39m.\u001b[39mactions[name]\u001b[39m.\u001b[39mrun(\n\u001b[1;32m    477\u001b[0m         validation_result_suite_identifier\u001b[39m=\u001b[39mvalidation_result_id,\n\u001b[1;32m    478\u001b[0m         validation_result_suite\u001b[39m=\u001b[39mbatch_validation_result,\n\u001b[1;32m    479\u001b[0m         data_asset\u001b[39m=\u001b[39mbatch,\n\u001b[1;32m    480\u001b[0m         payload\u001b[39m=\u001b[39mbatch_actions_results,\n\u001b[1;32m    481\u001b[0m         expectation_suite_identifier\u001b[39m=\u001b[39mexpectation_suite_identifier,\n\u001b[1;32m    482\u001b[0m         checkpoint_identifier\u001b[39m=\u001b[39mcheckpoint_identifier,\n\u001b[1;32m    483\u001b[0m     )\n\u001b[1;32m    485\u001b[0m     \u001b[39m# Transform action_result if it not a dictionary.\u001b[39;00m\n\u001b[1;32m    486\u001b[0m     \u001b[39mif\u001b[39;00m \u001b[39misinstance\u001b[39m(action_result, GXCloudResourceRef):\n",
            "File \u001b[0;32m~/miniconda/lib/python3.12/site-packages/great_expectations/checkpoint/actions.py:101\u001b[0m, in \u001b[0;36mValidationAction.run\u001b[0;34m(self, validation_result_suite, validation_result_suite_identifier, data_asset, expectation_suite_identifier, checkpoint_identifier, **kwargs)\u001b[0m\n\u001b[1;32m     73\u001b[0m \u001b[39m@public_api\u001b[39m\n\u001b[1;32m     74\u001b[0m \u001b[39mdef\u001b[39;00m \u001b[39mrun\u001b[39m(\n\u001b[1;32m     75\u001b[0m     \u001b[39mself\u001b[39m,\n\u001b[0;32m   (...)\u001b[0m\n\u001b[1;32m     83\u001b[0m     \u001b[39m*\u001b[39m\u001b[39m*\u001b[39mkwargs,\n\u001b[1;32m     84\u001b[0m ):\n\u001b[1;32m     85\u001b[0m \u001b[39m    \u001b[39m\u001b[39m\"\"\"Public entrypoint GX uses to trigger a ValidationAction.\u001b[39;00m\n\u001b[1;32m     86\u001b[0m \n\u001b[1;32m     87\u001b[0m \u001b[39m    When a ValidationAction is configured in a Checkpoint, this method gets called\u001b[39;00m\n\u001b[0;32m   (...)\u001b[0m\n\u001b[1;32m     99\u001b[0m \u001b[39m        A Dict describing the result of the Action.\u001b[39;00m\n\u001b[1;32m    100\u001b[0m \u001b[39m    \"\"\"\u001b[39;00m\n\u001b[0;32m--> 101\u001b[0m     \u001b[39mreturn\u001b[39;00m \u001b[39mself\u001b[39m\u001b[39m.\u001b[39m_run(\n\u001b[1;32m    102\u001b[0m         validation_result_suite\u001b[39m=\u001b[39mvalidation_result_suite,\n\u001b[1;32m    103\u001b[0m         validation_result_suite_identifier\u001b[39m=\u001b[39mvalidation_result_suite_identifier,\n\u001b[1;32m    104\u001b[0m         data_asset\u001b[39m=\u001b[39mdata_asset,\n\u001b[1;32m    105\u001b[0m         expectation_suite_identifier\u001b[39m=\u001b[39mexpectation_suite_identifier,\n\u001b[1;32m    106\u001b[0m         checkpoint_identifier\u001b[39m=\u001b[39mcheckpoint_identifier,\n\u001b[1;32m    107\u001b[0m         \u001b[39m*\u001b[39m\u001b[39m*\u001b[39mkwargs,\n\u001b[1;32m    108\u001b[0m     )\n",
            "File \u001b[0;32m~/miniconda/lib/python3.12/site-packages/great_expectations/checkpoint/actions.py:1190\u001b[0m, in \u001b[0;36mUpdateDataDocsAction._run\u001b[0;34m(self, validation_result_suite, validation_result_suite_identifier, data_asset, payload, expectation_suite_identifier, checkpoint_identifier)\u001b[0m\n\u001b[1;32m   1184\u001b[0m     \u001b[39mraise\u001b[39;00m \u001b[39mTypeError\u001b[39;00m(\n\u001b[1;32m   1185\u001b[0m         \u001b[39mf\u001b[39m\u001b[39m\"\u001b[39m\u001b[39mvalidation_result_id must be of type ValidationResultIdentifier or GeCloudIdentifier, not \u001b[39m\u001b[39m{\u001b[39;00m\u001b[39mtype\u001b[39m(validation_result_suite_identifier)\u001b[39m}\u001b[39;00m\u001b[39m\"\u001b[39m\n\u001b[1;32m   1186\u001b[0m     )\n\u001b[1;32m   1188\u001b[0m \u001b[39m# TODO Update for RenderedDataDocs\u001b[39;00m\n\u001b[1;32m   1189\u001b[0m \u001b[39m# build_data_docs will return the index page for the validation results, but we want to return the url for the validation result using the code below\u001b[39;00m\n\u001b[0;32m-> 1190\u001b[0m \u001b[39mself\u001b[39m\u001b[39m.\u001b[39mdata_context\u001b[39m.\u001b[39mbuild_data_docs(\n\u001b[1;32m   1191\u001b[0m     site_names\u001b[39m=\u001b[39m\u001b[39mself\u001b[39m\u001b[39m.\u001b[39m_site_names,\n\u001b[1;32m   1192\u001b[0m     resource_identifiers\u001b[39m=\u001b[39m[\n\u001b[1;32m   1193\u001b[0m         validation_result_suite_identifier,\n\u001b[1;32m   1194\u001b[0m         expectation_suite_identifier,\n\u001b[1;32m   1195\u001b[0m     ],\n\u001b[1;32m   1196\u001b[0m )\n\u001b[1;32m   1197\u001b[0m \u001b[39m# <snippet name=\"great_expectations/checkpoint/actions.py empty dict\">\u001b[39;00m\n\u001b[1;32m   1198\u001b[0m data_docs_validation_results: \u001b[39mdict\u001b[39m \u001b[39m=\u001b[39m {}\n",
            "File \u001b[0;32m~/miniconda/lib/python3.12/site-packages/great_expectations/core/usage_statistics/usage_statistics.py:266\u001b[0m, in \u001b[0;36musage_statistics_enabled_method.<locals>.usage_statistics_wrapped_method\u001b[0;34m(*args, **kwargs)\u001b[0m\n\u001b[1;32m    263\u001b[0m         args_payload \u001b[39m=\u001b[39m args_payload_fn(\u001b[39m*\u001b[39margs, \u001b[39m*\u001b[39m\u001b[39m*\u001b[39mkwargs) \u001b[39mor\u001b[39;00m {}\n\u001b[1;32m    264\u001b[0m         nested_update(event_payload, args_payload)\n\u001b[0;32m--> 266\u001b[0m     result \u001b[39m=\u001b[39m func(\u001b[39m*\u001b[39margs, \u001b[39m*\u001b[39m\u001b[39m*\u001b[39mkwargs)\n\u001b[1;32m    267\u001b[0m     message[\u001b[39m\"\u001b[39m\u001b[39msuccess\u001b[39m\u001b[39m\"\u001b[39m] \u001b[39m=\u001b[39m \u001b[39mTrue\u001b[39;00m\n\u001b[1;32m    268\u001b[0m \u001b[39mexcept\u001b[39;00m \u001b[39mException\u001b[39;00m:\n",
            "File \u001b[0;32m~/miniconda/lib/python3.12/site-packages/great_expectations/data_context/data_context/abstract_data_context.py:5318\u001b[0m, in \u001b[0;36mAbstractDataContext.build_data_docs\u001b[0;34m(self, site_names, resource_identifiers, dry_run, build_index)\u001b[0m\n\u001b[1;32m   5279\u001b[0m \u001b[39m@usage_statistics_enabled_method\u001b[39m(\n\u001b[1;32m   5280\u001b[0m     event_name\u001b[39m=\u001b[39mUsageStatsEvents\u001b[39m.\u001b[39mDATA_CONTEXT_BUILD_DATA_DOCS,\n\u001b[1;32m   5281\u001b[0m )\n\u001b[0;32m   (...)\u001b[0m\n\u001b[1;32m   5290\u001b[0m     build_index: \u001b[39mbool\u001b[39m \u001b[39m=\u001b[39m \u001b[39mTrue\u001b[39;00m,\n\u001b[1;32m   5291\u001b[0m ) \u001b[39m-\u001b[39m\u001b[39m>\u001b[39m \u001b[39mdict\u001b[39m[\u001b[39mstr\u001b[39m, \u001b[39mstr\u001b[39m]:\n\u001b[1;32m   5292\u001b[0m \u001b[39m    \u001b[39m\u001b[39m\"\"\"Build Data Docs for your project.\u001b[39;00m\n\u001b[1;32m   5293\u001b[0m \n\u001b[1;32m   5294\u001b[0m \u001b[39m    --Documentation--\u001b[39;00m\n\u001b[0;32m   (...)\u001b[0m\n\u001b[1;32m   5316\u001b[0m \u001b[39m        ClassInstantiationError: Site config in your Data Context config is not valid.\u001b[39;00m\n\u001b[1;32m   5317\u001b[0m \u001b[39m    \"\"\"\u001b[39;00m\n\u001b[0;32m-> 5318\u001b[0m     \u001b[39mreturn\u001b[39;00m \u001b[39mself\u001b[39m\u001b[39m.\u001b[39m_build_data_docs(\n\u001b[1;32m   5319\u001b[0m         site_names\u001b[39m=\u001b[39msite_names,\n\u001b[1;32m   5320\u001b[0m         resource_identifiers\u001b[39m=\u001b[39mresource_identifiers,\n\u001b[1;32m   5321\u001b[0m         dry_run\u001b[39m=\u001b[39mdry_run,\n\u001b[1;32m   5322\u001b[0m         build_index\u001b[39m=\u001b[39mbuild_index,\n\u001b[1;32m   5323\u001b[0m     )\n",
            "File \u001b[0;32m~/miniconda/lib/python3.12/site-packages/great_expectations/data_context/data_context/abstract_data_context.py:5365\u001b[0m, in \u001b[0;36mAbstractDataContext._build_data_docs\u001b[0;34m(self, site_names, resource_identifiers, dry_run, build_index)\u001b[0m\n\u001b[1;32m   5361\u001b[0m     index_page_locator_infos[\n\u001b[1;32m   5362\u001b[0m         site_name\n\u001b[1;32m   5363\u001b[0m     ] \u001b[39m=\u001b[39m site_builder\u001b[39m.\u001b[39mget_resource_url(only_if_exists\u001b[39m=\u001b[39m\u001b[39mFalse\u001b[39;00m)\n\u001b[1;32m   5364\u001b[0m \u001b[39melse\u001b[39;00m:\n\u001b[0;32m-> 5365\u001b[0m     index_page_resource_identifier_tuple \u001b[39m=\u001b[39m site_builder\u001b[39m.\u001b[39mbuild(\n\u001b[1;32m   5366\u001b[0m         resource_identifiers,\n\u001b[1;32m   5367\u001b[0m         build_index\u001b[39m=\u001b[39mbuild_index,\n\u001b[1;32m   5368\u001b[0m     )\n\u001b[1;32m   5369\u001b[0m     \u001b[39mif\u001b[39;00m index_page_resource_identifier_tuple:\n\u001b[1;32m   5370\u001b[0m         index_page_locator_infos[\n\u001b[1;32m   5371\u001b[0m             site_name\n\u001b[1;32m   5372\u001b[0m         ] \u001b[39m=\u001b[39m index_page_resource_identifier_tuple[\u001b[39m0\u001b[39m]\n",
            "File \u001b[0;32m~/miniconda/lib/python3.12/site-packages/great_expectations/render/renderer/site_builder.py:329\u001b[0m, in \u001b[0;36mSiteBuilder.build\u001b[0;34m(self, resource_identifiers, build_index)\u001b[0m\n\u001b[1;32m    326\u001b[0m \u001b[39mif\u001b[39;00m \u001b[39mself\u001b[39m\u001b[39m.\u001b[39mcloud_mode:\n\u001b[1;32m    327\u001b[0m     \u001b[39mreturn\u001b[39;00m\n\u001b[0;32m--> 329\u001b[0m \u001b[39mself\u001b[39m\u001b[39m.\u001b[39mtarget_store\u001b[39m.\u001b[39mcopy_static_assets()\n\u001b[1;32m    331\u001b[0m _, index_links_dict \u001b[39m=\u001b[39m \u001b[39mself\u001b[39m\u001b[39m.\u001b[39msite_index_builder\u001b[39m.\u001b[39mbuild(build_index\u001b[39m=\u001b[39mbuild_index)\n\u001b[1;32m    332\u001b[0m \u001b[39mreturn\u001b[39;00m (\n\u001b[1;32m    333\u001b[0m     \u001b[39mself\u001b[39m\u001b[39m.\u001b[39mget_resource_url(only_if_exists\u001b[39m=\u001b[39m\u001b[39mFalse\u001b[39;00m),\n\u001b[1;32m    334\u001b[0m     index_links_dict,\n\u001b[1;32m    335\u001b[0m )\n",
            "File \u001b[0;32m~/miniconda/lib/python3.12/site-packages/great_expectations/data_context/store/html_site_store.py:412\u001b[0m, in \u001b[0;36mHtmlSiteStore.copy_static_assets\u001b[0;34m(self, static_assets_source_dir)\u001b[0m\n\u001b[1;32m    408\u001b[0m     \u001b[39m# Recurse\u001b[39;00m\n\u001b[1;32m    409\u001b[0m     new_source_dir \u001b[39m=\u001b[39m os\u001b[39m.\u001b[39mpath\u001b[39m.\u001b[39mjoin(  \u001b[39m# noqa: PTH118\u001b[39;00m\n\u001b[1;32m    410\u001b[0m         static_assets_source_dir, item\n\u001b[1;32m    411\u001b[0m     )\n\u001b[0;32m--> 412\u001b[0m     \u001b[39mself\u001b[39m\u001b[39m.\u001b[39mcopy_static_assets(new_source_dir)\n\u001b[1;32m    413\u001b[0m \u001b[39m# File\u001b[39;00m\n\u001b[1;32m    414\u001b[0m \u001b[39melse\u001b[39;00m:\n\u001b[1;32m    415\u001b[0m     \u001b[39m# Copy file over using static assets store backend\u001b[39;00m\n\u001b[1;32m    416\u001b[0m     \u001b[39mif\u001b[39;00m item \u001b[39min\u001b[39;00m file_exclusions:\n",
            "File \u001b[0;32m~/miniconda/lib/python3.12/site-packages/great_expectations/data_context/store/html_site_store.py:412\u001b[0m, in \u001b[0;36mHtmlSiteStore.copy_static_assets\u001b[0;34m(self, static_assets_source_dir)\u001b[0m\n\u001b[1;32m    408\u001b[0m     \u001b[39m# Recurse\u001b[39;00m\n\u001b[1;32m    409\u001b[0m     new_source_dir \u001b[39m=\u001b[39m os\u001b[39m.\u001b[39mpath\u001b[39m.\u001b[39mjoin(  \u001b[39m# noqa: PTH118\u001b[39;00m\n\u001b[1;32m    410\u001b[0m         static_assets_source_dir, item\n\u001b[1;32m    411\u001b[0m     )\n\u001b[0;32m--> 412\u001b[0m     \u001b[39mself\u001b[39m\u001b[39m.\u001b[39mcopy_static_assets(new_source_dir)\n\u001b[1;32m    413\u001b[0m \u001b[39m# File\u001b[39;00m\n\u001b[1;32m    414\u001b[0m \u001b[39melse\u001b[39;00m:\n\u001b[1;32m    415\u001b[0m     \u001b[39m# Copy file over using static assets store backend\u001b[39;00m\n\u001b[1;32m    416\u001b[0m     \u001b[39mif\u001b[39;00m item \u001b[39min\u001b[39;00m file_exclusions:\n",
            "File \u001b[0;32m~/miniconda/lib/python3.12/site-packages/great_expectations/data_context/store/html_site_store.py:441\u001b[0m, in \u001b[0;36mHtmlSiteStore.copy_static_assets\u001b[0;34m(self, static_assets_source_dir)\u001b[0m\n\u001b[1;32m    436\u001b[0m         content_type \u001b[39m=\u001b[39m \u001b[39m\"\u001b[39m\u001b[39mtext/html; charset=utf8\u001b[39m\u001b[39m\"\u001b[39m\n\u001b[1;32m    438\u001b[0m \u001b[39mif\u001b[39;00m \u001b[39mnot\u001b[39;00m \u001b[39misinstance\u001b[39m(\n\u001b[1;32m    439\u001b[0m     \u001b[39mself\u001b[39m\u001b[39m.\u001b[39mstore_backends[\u001b[39m\"\u001b[39m\u001b[39mstatic_assets\u001b[39m\u001b[39m\"\u001b[39m], GXCloudStoreBackend\n\u001b[1;32m    440\u001b[0m ):\n\u001b[0;32m--> 441\u001b[0m     \u001b[39mself\u001b[39m\u001b[39m.\u001b[39mstore_backends[\u001b[39m\"\u001b[39m\u001b[39mstatic_assets\u001b[39m\u001b[39m\"\u001b[39m]\u001b[39m.\u001b[39mset(\n\u001b[1;32m    442\u001b[0m         store_key,\n\u001b[1;32m    443\u001b[0m         f\u001b[39m.\u001b[39mread(),\n\u001b[1;32m    444\u001b[0m         content_encoding\u001b[39m=\u001b[39mcontent_encoding,\n\u001b[1;32m    445\u001b[0m         content_type\u001b[39m=\u001b[39mcontent_type,\n\u001b[1;32m    446\u001b[0m     )\n",
            "File \u001b[0;32m~/miniconda/lib/python3.12/site-packages/great_expectations/data_context/store/_store_backend.py:134\u001b[0m, in \u001b[0;36mStoreBackend.set\u001b[0;34m(self, key, value, **kwargs)\u001b[0m\n\u001b[1;32m    132\u001b[0m \u001b[39m# Allow the implementing setter to return something (e.g. a path used for its key)\u001b[39;00m\n\u001b[1;32m    133\u001b[0m \u001b[39mtry\u001b[39;00m:\n\u001b[0;32m--> 134\u001b[0m     \u001b[39mreturn\u001b[39;00m \u001b[39mself\u001b[39m\u001b[39m.\u001b[39m_set(key, value, \u001b[39m*\u001b[39m\u001b[39m*\u001b[39mkwargs)\n\u001b[1;32m    135\u001b[0m \u001b[39mexcept\u001b[39;00m \u001b[39mValueError\u001b[39;00m \u001b[39mas\u001b[39;00m e:\n\u001b[1;32m    136\u001b[0m     logger\u001b[39m.\u001b[39mdebug(\u001b[39mstr\u001b[39m(e))\n",
            "File \u001b[0;32m~/miniconda/lib/python3.12/site-packages/great_expectations/data_context/store/tuple_store_backend.py:607\u001b[0m, in \u001b[0;36mTupleS3StoreBackend._set\u001b[0;34m(self, key, value, content_encoding, content_type, **kwargs)\u001b[0m\n\u001b[1;32m    600\u001b[0m         result_s3\u001b[39m.\u001b[39mput(\n\u001b[1;32m    601\u001b[0m             Body\u001b[39m=\u001b[39mvalue\u001b[39m.\u001b[39mencode(content_encoding),\n\u001b[1;32m    602\u001b[0m             ContentEncoding\u001b[39m=\u001b[39mcontent_encoding,\n\u001b[1;32m    603\u001b[0m             ContentType\u001b[39m=\u001b[39mcontent_type,\n\u001b[1;32m    604\u001b[0m             \u001b[39m*\u001b[39m\u001b[39m*\u001b[39m\u001b[39mself\u001b[39m\u001b[39m.\u001b[39ms3_put_options,\n\u001b[1;32m    605\u001b[0m         )\n\u001b[1;32m    606\u001b[0m     \u001b[39melse\u001b[39;00m:\n\u001b[0;32m--> 607\u001b[0m         result_s3\u001b[39m.\u001b[39mput(\n\u001b[1;32m    608\u001b[0m             Body\u001b[39m=\u001b[39mvalue, ContentType\u001b[39m=\u001b[39mcontent_type, \u001b[39m*\u001b[39m\u001b[39m*\u001b[39m\u001b[39mself\u001b[39m\u001b[39m.\u001b[39ms3_put_options\n\u001b[1;32m    609\u001b[0m         )\n\u001b[1;32m    610\u001b[0m \u001b[39mexcept\u001b[39;00m s3\u001b[39m.\u001b[39mmeta\u001b[39m.\u001b[39mclient\u001b[39m.\u001b[39mexceptions\u001b[39m.\u001b[39mClientError \u001b[39mas\u001b[39;00m e:\n\u001b[1;32m    611\u001b[0m     logger\u001b[39m.\u001b[39mdebug(\u001b[39mstr\u001b[39m(e))\n",
            "File \u001b[0;32m~/miniconda/lib/python3.12/site-packages/boto3/resources/factory.py:581\u001b[0m, in \u001b[0;36mResourceFactory._create_action.<locals>.do_action\u001b[0;34m(self, *args, **kwargs)\u001b[0m\n\u001b[1;32m    580\u001b[0m \u001b[39mdef\u001b[39;00m \u001b[39mdo_action\u001b[39m(\u001b[39mself\u001b[39m, \u001b[39m*\u001b[39margs, \u001b[39m*\u001b[39m\u001b[39m*\u001b[39mkwargs):\n\u001b[0;32m--> 581\u001b[0m     response \u001b[39m=\u001b[39m action(\u001b[39mself\u001b[39m, \u001b[39m*\u001b[39margs, \u001b[39m*\u001b[39m\u001b[39m*\u001b[39mkwargs)\n\u001b[1;32m    583\u001b[0m     \u001b[39mif\u001b[39;00m \u001b[39mhasattr\u001b[39m(\u001b[39mself\u001b[39m, \u001b[39m'\u001b[39m\u001b[39mload\u001b[39m\u001b[39m'\u001b[39m):\n\u001b[1;32m    584\u001b[0m         \u001b[39m# Clear cached data. It will be reloaded the next\u001b[39;00m\n\u001b[1;32m    585\u001b[0m         \u001b[39m# time that an attribute is accessed.\u001b[39;00m\n\u001b[1;32m    586\u001b[0m         \u001b[39m# TODO: Make this configurable in the future?\u001b[39;00m\n\u001b[1;32m    587\u001b[0m         \u001b[39mself\u001b[39m\u001b[39m.\u001b[39mmeta\u001b[39m.\u001b[39mdata \u001b[39m=\u001b[39m \u001b[39mNone\u001b[39;00m\n",
            "File \u001b[0;32m~/miniconda/lib/python3.12/site-packages/boto3/resources/action.py:88\u001b[0m, in \u001b[0;36mServiceAction.__call__\u001b[0;34m(self, parent, *args, **kwargs)\u001b[0m\n\u001b[1;32m     79\u001b[0m params\u001b[39m.\u001b[39mupdate(kwargs)\n\u001b[1;32m     81\u001b[0m logger\u001b[39m.\u001b[39mdebug(\n\u001b[1;32m     82\u001b[0m     \u001b[39m'\u001b[39m\u001b[39mCalling \u001b[39m\u001b[39m%s\u001b[39;00m\u001b[39m:\u001b[39m\u001b[39m%s\u001b[39;00m\u001b[39m with \u001b[39m\u001b[39m%r\u001b[39;00m\u001b[39m'\u001b[39m,\n\u001b[1;32m     83\u001b[0m     parent\u001b[39m.\u001b[39mmeta\u001b[39m.\u001b[39mservice_name,\n\u001b[1;32m     84\u001b[0m     operation_name,\n\u001b[1;32m     85\u001b[0m     params,\n\u001b[1;32m     86\u001b[0m )\n\u001b[0;32m---> 88\u001b[0m response \u001b[39m=\u001b[39m \u001b[39mgetattr\u001b[39m(parent\u001b[39m.\u001b[39mmeta\u001b[39m.\u001b[39mclient, operation_name)(\u001b[39m*\u001b[39margs, \u001b[39m*\u001b[39m\u001b[39m*\u001b[39mparams)\n\u001b[1;32m     90\u001b[0m logger\u001b[39m.\u001b[39mdebug(\u001b[39m'\u001b[39m\u001b[39mResponse: \u001b[39m\u001b[39m%r\u001b[39;00m\u001b[39m'\u001b[39m, response)\n\u001b[1;32m     92\u001b[0m \u001b[39mreturn\u001b[39;00m \u001b[39mself\u001b[39m\u001b[39m.\u001b[39m_response_handler(parent, params, response)\n",
            "File \u001b[0;32m~/miniconda/lib/python3.12/site-packages/botocore/client.py:553\u001b[0m, in \u001b[0;36mClientCreator._create_api_method.<locals>._api_call\u001b[0;34m(self, *args, **kwargs)\u001b[0m\n\u001b[1;32m    549\u001b[0m     \u001b[39mraise\u001b[39;00m \u001b[39mTypeError\u001b[39;00m(\n\u001b[1;32m    550\u001b[0m         \u001b[39mf\u001b[39m\u001b[39m\"\u001b[39m\u001b[39m{\u001b[39;00mpy_operation_name\u001b[39m}\u001b[39;00m\u001b[39m() only accepts keyword arguments.\u001b[39m\u001b[39m\"\u001b[39m\n\u001b[1;32m    551\u001b[0m     )\n\u001b[1;32m    552\u001b[0m \u001b[39m# The \"self\" in this scope is referring to the BaseClient.\u001b[39;00m\n\u001b[0;32m--> 553\u001b[0m \u001b[39mreturn\u001b[39;00m \u001b[39mself\u001b[39m\u001b[39m.\u001b[39m_make_api_call(operation_name, kwargs)\n",
            "File \u001b[0;32m~/miniconda/lib/python3.12/site-packages/botocore/client.py:946\u001b[0m, in \u001b[0;36mBaseClient._make_api_call\u001b[0;34m(self, operation_name, api_params)\u001b[0m\n\u001b[1;32m    937\u001b[0m     logger\u001b[39m.\u001b[39mdebug(\n\u001b[1;32m    938\u001b[0m         \u001b[39m'\u001b[39m\u001b[39mWarning: \u001b[39m\u001b[39m%s\u001b[39;00m\u001b[39m.\u001b[39m\u001b[39m%s\u001b[39;00m\u001b[39m() is deprecated\u001b[39m\u001b[39m'\u001b[39m, service_name, operation_name\n\u001b[1;32m    939\u001b[0m     )\n\u001b[1;32m    940\u001b[0m request_context \u001b[39m=\u001b[39m {\n\u001b[1;32m    941\u001b[0m     \u001b[39m'\u001b[39m\u001b[39mclient_region\u001b[39m\u001b[39m'\u001b[39m: \u001b[39mself\u001b[39m\u001b[39m.\u001b[39mmeta\u001b[39m.\u001b[39mregion_name,\n\u001b[1;32m    942\u001b[0m     \u001b[39m'\u001b[39m\u001b[39mclient_config\u001b[39m\u001b[39m'\u001b[39m: \u001b[39mself\u001b[39m\u001b[39m.\u001b[39mmeta\u001b[39m.\u001b[39mconfig,\n\u001b[1;32m    943\u001b[0m     \u001b[39m'\u001b[39m\u001b[39mhas_streaming_input\u001b[39m\u001b[39m'\u001b[39m: operation_model\u001b[39m.\u001b[39mhas_streaming_input,\n\u001b[1;32m    944\u001b[0m     \u001b[39m'\u001b[39m\u001b[39mauth_type\u001b[39m\u001b[39m'\u001b[39m: operation_model\u001b[39m.\u001b[39mauth_type,\n\u001b[1;32m    945\u001b[0m }\n\u001b[0;32m--> 946\u001b[0m api_params \u001b[39m=\u001b[39m \u001b[39mself\u001b[39m\u001b[39m.\u001b[39m_emit_api_params(\n\u001b[1;32m    947\u001b[0m     api_params\u001b[39m=\u001b[39mapi_params,\n\u001b[1;32m    948\u001b[0m     operation_model\u001b[39m=\u001b[39moperation_model,\n\u001b[1;32m    949\u001b[0m     context\u001b[39m=\u001b[39mrequest_context,\n\u001b[1;32m    950\u001b[0m )\n\u001b[1;32m    951\u001b[0m (\n\u001b[1;32m    952\u001b[0m     endpoint_url,\n\u001b[1;32m    953\u001b[0m     additional_headers,\n\u001b[0;32m   (...)\u001b[0m\n\u001b[1;32m    956\u001b[0m     operation_model, api_params, request_context\n\u001b[1;32m    957\u001b[0m )\n\u001b[1;32m    958\u001b[0m \u001b[39mif\u001b[39;00m properties:\n\u001b[1;32m    959\u001b[0m     \u001b[39m# Pass arbitrary endpoint info with the Request\u001b[39;00m\n\u001b[1;32m    960\u001b[0m     \u001b[39m# for use during construction.\u001b[39;00m\n",
            "File \u001b[0;32m~/miniconda/lib/python3.12/site-packages/botocore/client.py:1072\u001b[0m, in \u001b[0;36mBaseClient._emit_api_params\u001b[0;34m(self, api_params, operation_model, context)\u001b[0m\n\u001b[1;32m   1064\u001b[0m responses \u001b[39m=\u001b[39m \u001b[39mself\u001b[39m\u001b[39m.\u001b[39mmeta\u001b[39m.\u001b[39mevents\u001b[39m.\u001b[39memit(\n\u001b[1;32m   1065\u001b[0m     \u001b[39mf\u001b[39m\u001b[39m'\u001b[39m\u001b[39mprovide-client-params.\u001b[39m\u001b[39m{\u001b[39;00mservice_id\u001b[39m}\u001b[39;00m\u001b[39m.\u001b[39m\u001b[39m{\u001b[39;00moperation_name\u001b[39m}\u001b[39;00m\u001b[39m'\u001b[39m,\n\u001b[1;32m   1066\u001b[0m     params\u001b[39m=\u001b[39mapi_params,\n\u001b[1;32m   1067\u001b[0m     model\u001b[39m=\u001b[39moperation_model,\n\u001b[1;32m   1068\u001b[0m     context\u001b[39m=\u001b[39mcontext,\n\u001b[1;32m   1069\u001b[0m )\n\u001b[1;32m   1070\u001b[0m api_params \u001b[39m=\u001b[39m first_non_none_response(responses, default\u001b[39m=\u001b[39mapi_params)\n\u001b[0;32m-> 1072\u001b[0m \u001b[39mself\u001b[39m\u001b[39m.\u001b[39mmeta\u001b[39m.\u001b[39mevents\u001b[39m.\u001b[39memit(\n\u001b[1;32m   1073\u001b[0m     \u001b[39mf\u001b[39m\u001b[39m'\u001b[39m\u001b[39mbefore-parameter-build.\u001b[39m\u001b[39m{\u001b[39;00mservice_id\u001b[39m}\u001b[39;00m\u001b[39m.\u001b[39m\u001b[39m{\u001b[39;00moperation_name\u001b[39m}\u001b[39;00m\u001b[39m'\u001b[39m,\n\u001b[1;32m   1074\u001b[0m     params\u001b[39m=\u001b[39mapi_params,\n\u001b[1;32m   1075\u001b[0m     model\u001b[39m=\u001b[39moperation_model,\n\u001b[1;32m   1076\u001b[0m     context\u001b[39m=\u001b[39mcontext,\n\u001b[1;32m   1077\u001b[0m )\n\u001b[1;32m   1078\u001b[0m \u001b[39mreturn\u001b[39;00m api_params\n",
            "File \u001b[0;32m~/miniconda/lib/python3.12/site-packages/botocore/hooks.py:412\u001b[0m, in \u001b[0;36mEventAliaser.emit\u001b[0;34m(self, event_name, **kwargs)\u001b[0m\n\u001b[1;32m    410\u001b[0m \u001b[39mdef\u001b[39;00m \u001b[39memit\u001b[39m(\u001b[39mself\u001b[39m, event_name, \u001b[39m*\u001b[39m\u001b[39m*\u001b[39mkwargs):\n\u001b[1;32m    411\u001b[0m     aliased_event_name \u001b[39m=\u001b[39m \u001b[39mself\u001b[39m\u001b[39m.\u001b[39m_alias_event_name(event_name)\n\u001b[0;32m--> 412\u001b[0m     \u001b[39mreturn\u001b[39;00m \u001b[39mself\u001b[39m\u001b[39m.\u001b[39m_emitter\u001b[39m.\u001b[39memit(aliased_event_name, \u001b[39m*\u001b[39m\u001b[39m*\u001b[39mkwargs)\n",
            "File \u001b[0;32m~/miniconda/lib/python3.12/site-packages/botocore/hooks.py:256\u001b[0m, in \u001b[0;36mHierarchicalEmitter.emit\u001b[0;34m(self, event_name, **kwargs)\u001b[0m\n\u001b[1;32m    245\u001b[0m \u001b[39mdef\u001b[39;00m \u001b[39memit\u001b[39m(\u001b[39mself\u001b[39m, event_name, \u001b[39m*\u001b[39m\u001b[39m*\u001b[39mkwargs):\n\u001b[1;32m    246\u001b[0m \u001b[39m    \u001b[39m\u001b[39m\"\"\"\u001b[39;00m\n\u001b[1;32m    247\u001b[0m \u001b[39m    Emit an event by name with arguments passed as keyword args.\u001b[39;00m\n\u001b[1;32m    248\u001b[0m \n\u001b[0;32m   (...)\u001b[0m\n\u001b[1;32m    254\u001b[0m \u001b[39m             handlers.\u001b[39;00m\n\u001b[1;32m    255\u001b[0m \u001b[39m    \"\"\"\u001b[39;00m\n\u001b[0;32m--> 256\u001b[0m     \u001b[39mreturn\u001b[39;00m \u001b[39mself\u001b[39m\u001b[39m.\u001b[39m_emit(event_name, kwargs)\n",
            "File \u001b[0;32m~/miniconda/lib/python3.12/site-packages/botocore/hooks.py:239\u001b[0m, in \u001b[0;36mHierarchicalEmitter._emit\u001b[0;34m(self, event_name, kwargs, stop_on_response)\u001b[0m\n\u001b[1;32m    237\u001b[0m \u001b[39mfor\u001b[39;00m handler \u001b[39min\u001b[39;00m handlers_to_call:\n\u001b[1;32m    238\u001b[0m     logger\u001b[39m.\u001b[39mdebug(\u001b[39m'\u001b[39m\u001b[39mEvent \u001b[39m\u001b[39m%s\u001b[39;00m\u001b[39m: calling handler \u001b[39m\u001b[39m%s\u001b[39;00m\u001b[39m'\u001b[39m, event_name, handler)\n\u001b[0;32m--> 239\u001b[0m     response \u001b[39m=\u001b[39m handler(\u001b[39m*\u001b[39m\u001b[39m*\u001b[39mkwargs)\n\u001b[1;32m    240\u001b[0m     responses\u001b[39m.\u001b[39mappend((handler, response))\n\u001b[1;32m    241\u001b[0m     \u001b[39mif\u001b[39;00m stop_on_response \u001b[39mand\u001b[39;00m response \u001b[39mis\u001b[39;00m \u001b[39mnot\u001b[39;00m \u001b[39mNone\u001b[39;00m:\n",
            "File \u001b[0;32m~/miniconda/lib/python3.12/site-packages/botocore/handlers.py:288\u001b[0m, in \u001b[0;36mvalidate_bucket_name\u001b[0;34m(params, **kwargs)\u001b[0m\n\u001b[1;32m    282\u001b[0m \u001b[39mif\u001b[39;00m \u001b[39mnot\u001b[39;00m VALID_BUCKET\u001b[39m.\u001b[39msearch(bucket) \u001b[39mand\u001b[39;00m \u001b[39mnot\u001b[39;00m VALID_S3_ARN\u001b[39m.\u001b[39msearch(bucket):\n\u001b[1;32m    283\u001b[0m     error_msg \u001b[39m=\u001b[39m (\n\u001b[1;32m    284\u001b[0m         \u001b[39mf\u001b[39m\u001b[39m'\u001b[39m\u001b[39mInvalid bucket name \u001b[39m\u001b[39m\"\u001b[39m\u001b[39m{\u001b[39;00mbucket\u001b[39m}\u001b[39;00m\u001b[39m\"\u001b[39m\u001b[39m: Bucket name must match \u001b[39m\u001b[39m'\u001b[39m\n\u001b[1;32m    285\u001b[0m         \u001b[39mf\u001b[39m\u001b[39m'\u001b[39m\u001b[39mthe regex \u001b[39m\u001b[39m\"\u001b[39m\u001b[39m{\u001b[39;00mVALID_BUCKET\u001b[39m.\u001b[39mpattern\u001b[39m}\u001b[39;00m\u001b[39m\"\u001b[39m\u001b[39m or be an ARN matching \u001b[39m\u001b[39m'\u001b[39m\n\u001b[1;32m    286\u001b[0m         \u001b[39mf\u001b[39m\u001b[39m'\u001b[39m\u001b[39mthe regex \u001b[39m\u001b[39m\"\u001b[39m\u001b[39m{\u001b[39;00mVALID_S3_ARN\u001b[39m.\u001b[39mpattern\u001b[39m}\u001b[39;00m\u001b[39m\"\u001b[39m\u001b[39m'\u001b[39m\n\u001b[1;32m    287\u001b[0m     )\n\u001b[0;32m--> 288\u001b[0m     \u001b[39mraise\u001b[39;00m ParamValidationError(report\u001b[39m=\u001b[39merror_msg)\n",
            "\u001b[0;31mParamValidationError\u001b[0m: Parameter validation failed:\nInvalid bucket name \"<GX-DOCS-BUCKET>\": Bucket name must match the regex \"^[a-zA-Z0-9.\\-_]{1,255}$\" or be an ARN matching the regex \"^arn:(aws).*:(s3|s3-object-lambda):[a-z\\-0-9]*:[0-9]{12}:accesspoint[/:][a-zA-Z0-9\\-.]{1,63}$|^arn:(aws).*:s3-outposts:[a-z\\-0-9]+:[0-9]{12}:outpost[/:][a-zA-Z0-9\\-]{1,63}[/:]accesspoint[/:][a-zA-Z0-9\\-]{1,63}$\""
          ]
        }
      ],
      "source": [
        "checkpoint_result = checkpoint.run()"
      ]
    },
    {
      "cell_type": "markdown",
      "metadata": {},
      "source": [
        "Once the checkpoint has run the validations, go to your artifacts bucket. Open the `validations` folder and you will find a  folder with the expectation suite name and then a folder named with the same `run_time_template` format that was set in the checkpoint: `trips %Y-%m-%d %H:%M:%S`. Open such a folder, inside there will be another subfolder with a Datetime format and finally some json files. The format of the name is composed of the Data Source, Data Asset, and will end with the column name used to perform the splits for the batches and the value for the batch itself. You can download one of them to inspect it. "
      ]
    },
    {
      "cell_type": "markdown",
      "metadata": {},
      "source": [
        "After your validations have run, remember that the data docs have been updated as part of the actions that are executed as a later process. Run the following command to build your data docs."
      ]
    },
    {
      "cell_type": "code",
      "execution_count": null,
      "metadata": {},
      "outputs": [],
      "source": [
        "context.build_data_docs()"
      ]
    },
    {
      "cell_type": "markdown",
      "metadata": {},
      "source": [
        "To see the data docs, click on the link in the output. \n",
        "\n",
        "*Note - alternative way to find the URL*: This URL can be also found in the properties of the docs S3 bucket. Go to the docs S3 bucket in the AWS console and then click on the **Properties** tab. Scroll down until you find the **Static website hosting** section and copy the URL that you will find in that section. Paste it into a new browser tab. \n",
        "\n",
        "You will be redirected to the validation results which will look like the following image:\n",
        "\n",
        "![GX Data docs](./images/GX_data_docs_validations.png)"
      ]
    },
    {
      "cell_type": "markdown",
      "metadata": {},
      "source": [
        "You will have two tabs, one for the Validation Results and another one for the Expectation Suites. If you click the Expectation Suites tab, you will find the Expectation Suite name that you created, click on it and you will find an overview of the expectations that belong to that Suite, such as in the following image:\n",
        "\n",
        "![GX Data docs Expectation Suite](./images/GX_expectation_suite_overview.png)"
      ]
    },
    {
      "cell_type": "markdown",
      "metadata": {},
      "source": [
        "In the upper part, click on **Home** and click again on the Validation Results tab. In that tab, you will find the results of the validations performed over each batch. At this point, the Status of all your results should be **Succeeded**, indicating that all batches passed the proposed data quality expectation checks. Click on any of the rows shown to see a view with the results of the expectations over a particular batch. You should see something similar to this image:\n",
        "\n",
        "![GX Data docs validation results](./images/GX_validation_results.png)"
      ]
    },
    {
      "cell_type": "markdown",
      "metadata": {},
      "source": [
        "You will find some statistics about the evaluated expectations, and successful and unsuccessful expectations. If you click on **`Show more info...`** you will see some metadata about the Checkpoint execution and the batch used. After that section, you will see each of the expectations and the result of the validation of each of them.\n",
        "\n",
        "Now that you have explored the Data docs and realized that your expectations have run successfully, you will insert some data that violates one of the expectations. Go to the terminal and make sure you are located at `~/project`. Run the command to get the database endpoint:\n",
        "\n",
        "```bash\n",
        "aws rds describe-db-instances --db-instance-identifier de-c2w3a1-rds --output text --query \"DBInstances[].Endpoint.Address\"\n",
        "```"
      ]
    },
    {
      "cell_type": "markdown",
      "metadata": {},
      "source": [
        "Then connect to the database replacing the `<RDS-DBHOST>` with the previous output:\n",
        "\n",
        "```bash\n",
        "mysql --host=<RDS-DBHOST> --user=admin --port=3306 --password=adminpwrd --database=taxi_trips\n",
        "```"
      ]
    },
    {
      "cell_type": "markdown",
      "metadata": {},
      "source": [
        "Then, use the following command to insert some data that will violate one of the expectations:"
      ]
    },
    {
      "cell_type": "markdown",
      "metadata": {},
      "source": [
        "```sql\n",
        "INSERT INTO trips (vendor_id, pickup_datetime, dropoff_datetime, passenger_count, trip_distance, rate_code_id, store_and_fwd_flag, pickup_location_id, dropoff_location_id, payment_type, fare_amount, extra, mta_tax, tip_amount, tolls_amount, improvement_surcharge, total_amount, congestion_surcharge)\n",
        "values (2,'2022-03-11 17:48:59','2022-03-11 18:03:01',6,2.44,1,'N',161,236,2,11.0,0.0,0.5,0.0,0.0,0.3,11.5,1001) ;\n",
        "```"
      ]
    },
    {
      "cell_type": "markdown",
      "metadata": {},
      "source": [
        "Now, back to the notebook, execute again the validation's computation:"
      ]
    },
    {
      "cell_type": "code",
      "execution_count": null,
      "metadata": {},
      "outputs": [],
      "source": [
        "checkpoint_bad_result = checkpoint.run()"
      ]
    },
    {
      "cell_type": "markdown",
      "metadata": {},
      "source": [
        "Inspect again the Data docs, you will see three additional rows as shown in the image:\n",
        "\n",
        "![GX Data docs validation bad](./images/GX_data_docs_validation_bad.png)"
      ]
    },
    {
      "cell_type": "markdown",
      "metadata": {},
      "source": [
        "You will see that one of the last 3 batch runs has a Failed Status. Click on it, you will see that the expectation over the column `\"congestion_surcharge\"` has failed, as shown in the image:\n",
        "\n",
        "![GX Data docs validation bad results](./images/GX_validation_bad_results.png)"
      ]
    },
    {
      "cell_type": "markdown",
      "metadata": {},
      "source": [
        "You see the **Failed** status and that there is 1 Unsuccessful expectation. You can also see that the row of data that you inserted manually has a `\"congestion_surcharge\"` value of 1001, which violates your established expectation that the values of that particular column should be between 0 and 1000. The other two expectations were successful. That way, you can assess the quality of your data and the characteristics of those data rows that do not hold the expectations you have set.\n",
        "\n",
        "In this lab, you worked with some of the core components of GX, configured the Data Context stores by modifying the `gx/great_expectations.yml` file, and created a SQL Data Source and the corresponding Table Data Asset from which you saw you can create your data batches. Then, you created an Expectation Suite and a Validator and added some Expectations to your Expectation Suite. Then, you created a validation list with the batch requests for each of your data batches and created a GX Checkpoint to run your expectations. Finally, you interacted with the Data Docs stored in your S3 bucket and assessed the quality of your data set."
      ]
    },
    {
      "cell_type": "code",
      "execution_count": null,
      "metadata": {},
      "outputs": [],
      "source": []
    }
  ],
  "metadata": {
    "grader_version": "1",
    "kernelspec": {
      "display_name": "Python (base)",
      "language": "python",
      "name": "base"
    },
    "language_info": {
      "codemirror_mode": {
        "name": "ipython",
        "version": 3
      },
      "file_extension": ".py",
      "mimetype": "text/x-python",
      "name": "python",
      "nbconvert_exporter": "python",
      "pygments_lexer": "ipython3",
      "version": "3.12.7"
    },
    "vscode": {
      "interpreter": {
        "hash": "286072405b4aad1fd50276a28f527182039f1d0b696f26f8301816cecc2a19fb"
      }
    }
  },
  "nbformat": 4,
  "nbformat_minor": 4
}
